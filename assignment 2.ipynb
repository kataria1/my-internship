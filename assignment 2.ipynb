{
 "cells": [
  {
   "cell_type": "code",
   "execution_count": 1,
   "id": "7df94010",
   "metadata": {},
   "outputs": [],
   "source": [
    "import selenium"
   ]
  },
  {
   "cell_type": "code",
   "execution_count": 2,
   "id": "4549d1c7",
   "metadata": {},
   "outputs": [],
   "source": [
    "import selenium\n",
    "import pandas as pd\n",
    "import warnings\n",
    "warnings.filterwarnings('ignore')\n",
    "from selenium import webdriver\n",
    "from selenium.webdriver.common.by import By\n",
    "import time"
   ]
  },
  {
   "cell_type": "code",
   "execution_count": 5,
   "id": "ef20dc8f",
   "metadata": {},
   "outputs": [],
   "source": [
    "driver=webdriver.Chrome(r\"C:\\Users\\ADMIN\\Downloads\\chromedriver_win32.zip\\chromedriver.exe\")"
   ]
  },
  {
   "cell_type": "markdown",
   "id": "9bf2f6f1",
   "metadata": {},
   "source": [
    "we have to connect webdriver with webserver and the automated chrome is opened"
   ]
  },
  {
   "cell_type": "code",
   "execution_count": 4,
   "id": "703ded7f",
   "metadata": {},
   "outputs": [],
   "source": [
    "driver.get('https://www.naukri.com/')"
   ]
  },
  {
   "cell_type": "code",
   "execution_count": 5,
   "id": "8dc1a6cb",
   "metadata": {},
   "outputs": [],
   "source": [
    "design=driver.find_element(By.CLASS_NAME,'suggestor-input ')\n",
    "design.send_keys('Data Analyst')"
   ]
  },
  {
   "cell_type": "code",
   "execution_count": 6,
   "id": "c0fe48a4",
   "metadata": {},
   "outputs": [],
   "source": [
    "loca=driver.find_element(By.XPATH,'/html/body/div[1]/div[6]/div/div/div[5]/div/div/div/input')\n",
    "loca.send_keys('Bangalore')"
   ]
  },
  {
   "cell_type": "code",
   "execution_count": 7,
   "id": "b5b135b2",
   "metadata": {},
   "outputs": [],
   "source": [
    "search=driver.find_element(By.CLASS_NAME,'qsbSubmit')\n",
    "search.click()"
   ]
  },
  {
   "cell_type": "code",
   "execution_count": 9,
   "id": "9c6751ab",
   "metadata": {},
   "outputs": [
    {
     "data": {
      "text/plain": [
       "['Data Analyst',\n",
       " 'Urgent opening For Data Analyst/Business Analyst For Bangalore locatio',\n",
       " 'STAFF DATA ANALYST',\n",
       " 'Senior Manager Data Analyst',\n",
       " 'Senior Data Analyst',\n",
       " 'Data Analyst | Purchase Order | Sales Order | Jayanagar | Bangalore',\n",
       " 'Data Analyst @ Muthoot Finance - Bangalore',\n",
       " 'TATA Croma - Data Analyst - Mumbai / Bangalore',\n",
       " 'Data Analyst',\n",
       " 'Senior Data Analyst']"
      ]
     },
     "execution_count": 9,
     "metadata": {},
     "output_type": "execute_result"
    }
   ],
   "source": [
    "titles=[]\n",
    "tit=driver.find_elements(By.XPATH,'//a[@class=\"title fw500 ellipsis\"]')\n",
    "for i in tit[0:10]:\n",
    "    titles.append(i.text)\n",
    "titles"
   ]
  },
  {
   "cell_type": "code",
   "execution_count": 10,
   "id": "32cec060",
   "metadata": {},
   "outputs": [
    {
     "data": {
      "text/plain": [
       "['Bangalore/Bengaluru',\n",
       " 'Bangalore/Bengaluru',\n",
       " 'Bangalore/Bengaluru',\n",
       " 'Hybrid - Bangalore/Bengaluru',\n",
       " 'Bangalore/Bengaluru',\n",
       " 'Bangalore/Bengaluru(5th Block Jayanagar)',\n",
       " 'Bangalore/Bengaluru(Lingarajapuram)',\n",
       " 'Hybrid - Bangalore/Bengaluru, Mumbai',\n",
       " 'Bangalore/Bengaluru',\n",
       " 'Bangalore/Bengaluru']"
      ]
     },
     "execution_count": 10,
     "metadata": {},
     "output_type": "execute_result"
    }
   ],
   "source": [
    "location=[]\n",
    "loc=driver.find_elements(By.XPATH,'//li[@class=\"fleft grey-text br2 placeHolderLi location\"]')\n",
    "for i in loc[0:10]:\n",
    "    location.append(i.text)\n",
    "location"
   ]
  },
  {
   "cell_type": "code",
   "execution_count": 11,
   "id": "f7a1c271",
   "metadata": {},
   "outputs": [
    {
     "data": {
      "text/plain": [
       "['Namdhari Seeds',\n",
       " 'Netscribes',\n",
       " 'Walmart',\n",
       " 'Born Commerce',\n",
       " 'Walmart',\n",
       " 'Inspiration Manpower Consultancy',\n",
       " 'Muthoot Finance',\n",
       " 'Croma',\n",
       " 'Capco',\n",
       " 'Walmart']"
      ]
     },
     "execution_count": 11,
     "metadata": {},
     "output_type": "execute_result"
    }
   ],
   "source": [
    "name=[]\n",
    "comp=driver.find_elements(By.XPATH,'//a[@class=\"subTitle ellipsis fleft\"]')\n",
    "for i in comp[0:10]:\n",
    "    name.append(i.text)\n",
    "name"
   ]
  },
  {
   "cell_type": "code",
   "execution_count": 12,
   "id": "da826e7e",
   "metadata": {},
   "outputs": [
    {
     "data": {
      "text/plain": [
       "['0-2 Yrs',\n",
       " '2-4 Yrs',\n",
       " '5-6 Yrs',\n",
       " '8-12 Yrs',\n",
       " '4-7 Yrs',\n",
       " '4-8 Yrs',\n",
       " '4-9 Yrs',\n",
       " '3-6 Yrs',\n",
       " '8-12 Yrs',\n",
       " '2-6 Yrs']"
      ]
     },
     "execution_count": 12,
     "metadata": {},
     "output_type": "execute_result"
    }
   ],
   "source": [
    "experince=[]\n",
    "exp=driver.find_elements(By.XPATH,'//li[@class=\"fleft grey-text br2 placeHolderLi experience\"]')\n",
    "for i in exp[0:10]:\n",
    "    experince.append(i.text)\n",
    "experince"
   ]
  },
  {
   "cell_type": "code",
   "execution_count": 15,
   "id": "57679f02",
   "metadata": {},
   "outputs": [
    {
     "name": "stdout",
     "output_type": "stream",
     "text": [
      "10 10 10 10\n"
     ]
    }
   ],
   "source": [
    "print(len(experince),len(location),len(name),len(titles))"
   ]
  },
  {
   "cell_type": "code",
   "execution_count": 16,
   "id": "5b425186",
   "metadata": {},
   "outputs": [],
   "source": [
    "df=pd.DataFrame({'titles':titles,'names':name,'experience':experince,'location':location})"
   ]
  },
  {
   "cell_type": "code",
   "execution_count": 17,
   "id": "983e5fe5",
   "metadata": {},
   "outputs": [
    {
     "data": {
      "text/html": [
       "<div>\n",
       "<style scoped>\n",
       "    .dataframe tbody tr th:only-of-type {\n",
       "        vertical-align: middle;\n",
       "    }\n",
       "\n",
       "    .dataframe tbody tr th {\n",
       "        vertical-align: top;\n",
       "    }\n",
       "\n",
       "    .dataframe thead th {\n",
       "        text-align: right;\n",
       "    }\n",
       "</style>\n",
       "<table border=\"1\" class=\"dataframe\">\n",
       "  <thead>\n",
       "    <tr style=\"text-align: right;\">\n",
       "      <th></th>\n",
       "      <th>titles</th>\n",
       "      <th>names</th>\n",
       "      <th>experience</th>\n",
       "      <th>location</th>\n",
       "    </tr>\n",
       "  </thead>\n",
       "  <tbody>\n",
       "    <tr>\n",
       "      <th>0</th>\n",
       "      <td>Data Analyst</td>\n",
       "      <td>Namdhari Seeds</td>\n",
       "      <td>0-2 Yrs</td>\n",
       "      <td>Bangalore/Bengaluru</td>\n",
       "    </tr>\n",
       "    <tr>\n",
       "      <th>1</th>\n",
       "      <td>Urgent opening For Data Analyst/Business Analy...</td>\n",
       "      <td>Netscribes</td>\n",
       "      <td>2-4 Yrs</td>\n",
       "      <td>Bangalore/Bengaluru</td>\n",
       "    </tr>\n",
       "    <tr>\n",
       "      <th>2</th>\n",
       "      <td>STAFF DATA ANALYST</td>\n",
       "      <td>Walmart</td>\n",
       "      <td>5-6 Yrs</td>\n",
       "      <td>Bangalore/Bengaluru</td>\n",
       "    </tr>\n",
       "    <tr>\n",
       "      <th>3</th>\n",
       "      <td>Senior Manager Data Analyst</td>\n",
       "      <td>Born Commerce</td>\n",
       "      <td>8-12 Yrs</td>\n",
       "      <td>Hybrid - Bangalore/Bengaluru</td>\n",
       "    </tr>\n",
       "    <tr>\n",
       "      <th>4</th>\n",
       "      <td>Senior Data Analyst</td>\n",
       "      <td>Walmart</td>\n",
       "      <td>4-7 Yrs</td>\n",
       "      <td>Bangalore/Bengaluru</td>\n",
       "    </tr>\n",
       "    <tr>\n",
       "      <th>5</th>\n",
       "      <td>Data Analyst | Purchase Order | Sales Order | ...</td>\n",
       "      <td>Inspiration Manpower Consultancy</td>\n",
       "      <td>4-8 Yrs</td>\n",
       "      <td>Bangalore/Bengaluru(5th Block Jayanagar)</td>\n",
       "    </tr>\n",
       "    <tr>\n",
       "      <th>6</th>\n",
       "      <td>Data Analyst @ Muthoot Finance - Bangalore</td>\n",
       "      <td>Muthoot Finance</td>\n",
       "      <td>4-9 Yrs</td>\n",
       "      <td>Bangalore/Bengaluru(Lingarajapuram)</td>\n",
       "    </tr>\n",
       "    <tr>\n",
       "      <th>7</th>\n",
       "      <td>TATA Croma - Data Analyst - Mumbai / Bangalore</td>\n",
       "      <td>Croma</td>\n",
       "      <td>3-6 Yrs</td>\n",
       "      <td>Hybrid - Bangalore/Bengaluru, Mumbai</td>\n",
       "    </tr>\n",
       "    <tr>\n",
       "      <th>8</th>\n",
       "      <td>Data Analyst</td>\n",
       "      <td>Capco</td>\n",
       "      <td>8-12 Yrs</td>\n",
       "      <td>Bangalore/Bengaluru</td>\n",
       "    </tr>\n",
       "    <tr>\n",
       "      <th>9</th>\n",
       "      <td>Senior Data Analyst</td>\n",
       "      <td>Walmart</td>\n",
       "      <td>2-6 Yrs</td>\n",
       "      <td>Bangalore/Bengaluru</td>\n",
       "    </tr>\n",
       "  </tbody>\n",
       "</table>\n",
       "</div>"
      ],
      "text/plain": [
       "                                              titles  \\\n",
       "0                                       Data Analyst   \n",
       "1  Urgent opening For Data Analyst/Business Analy...   \n",
       "2                                 STAFF DATA ANALYST   \n",
       "3                        Senior Manager Data Analyst   \n",
       "4                                Senior Data Analyst   \n",
       "5  Data Analyst | Purchase Order | Sales Order | ...   \n",
       "6         Data Analyst @ Muthoot Finance - Bangalore   \n",
       "7     TATA Croma - Data Analyst - Mumbai / Bangalore   \n",
       "8                                       Data Analyst   \n",
       "9                                Senior Data Analyst   \n",
       "\n",
       "                              names experience  \\\n",
       "0                    Namdhari Seeds    0-2 Yrs   \n",
       "1                        Netscribes    2-4 Yrs   \n",
       "2                           Walmart    5-6 Yrs   \n",
       "3                     Born Commerce   8-12 Yrs   \n",
       "4                           Walmart    4-7 Yrs   \n",
       "5  Inspiration Manpower Consultancy    4-8 Yrs   \n",
       "6                   Muthoot Finance    4-9 Yrs   \n",
       "7                             Croma    3-6 Yrs   \n",
       "8                             Capco   8-12 Yrs   \n",
       "9                           Walmart    2-6 Yrs   \n",
       "\n",
       "                                   location  \n",
       "0                       Bangalore/Bengaluru  \n",
       "1                       Bangalore/Bengaluru  \n",
       "2                       Bangalore/Bengaluru  \n",
       "3              Hybrid - Bangalore/Bengaluru  \n",
       "4                       Bangalore/Bengaluru  \n",
       "5  Bangalore/Bengaluru(5th Block Jayanagar)  \n",
       "6       Bangalore/Bengaluru(Lingarajapuram)  \n",
       "7      Hybrid - Bangalore/Bengaluru, Mumbai  \n",
       "8                       Bangalore/Bengaluru  \n",
       "9                       Bangalore/Bengaluru  "
      ]
     },
     "execution_count": 17,
     "metadata": {},
     "output_type": "execute_result"
    }
   ],
   "source": [
    "df"
   ]
  },
  {
   "cell_type": "markdown",
   "id": "c22ed36c",
   "metadata": {},
   "source": [
    "question 2"
   ]
  },
  {
   "cell_type": "code",
   "execution_count": 18,
   "id": "97c2f93e",
   "metadata": {},
   "outputs": [],
   "source": [
    "driver=webdriver.Chrome(r\"C:\\Users\\ADMIN\\Downloads\\chromedriver_win32.zip\\chromedriver.exe\")"
   ]
  },
  {
   "cell_type": "code",
   "execution_count": 19,
   "id": "9314443b",
   "metadata": {},
   "outputs": [],
   "source": [
    "driver.get('https://www.naukri.com/')"
   ]
  },
  {
   "cell_type": "code",
   "execution_count": 20,
   "id": "b0ca6656",
   "metadata": {},
   "outputs": [],
   "source": [
    "design=driver.find_element(By.CLASS_NAME,'suggestor-input ')\n",
    "design.send_keys('Data Scientist')"
   ]
  },
  {
   "cell_type": "code",
   "execution_count": 21,
   "id": "ebaf4e50",
   "metadata": {},
   "outputs": [],
   "source": [
    "loca=driver.find_element(By.XPATH,'/html/body/div[1]/div[6]/div/div/div[5]/div/div/div/input')\n",
    "loca.send_keys('Bangalore')"
   ]
  },
  {
   "cell_type": "code",
   "execution_count": 22,
   "id": "8b0510b9",
   "metadata": {},
   "outputs": [],
   "source": [
    "search=driver.find_element(By.CLASS_NAME,'qsbSubmit')\n",
    "search.click()"
   ]
  },
  {
   "cell_type": "code",
   "execution_count": 23,
   "id": "1a652309",
   "metadata": {},
   "outputs": [
    {
     "data": {
      "text/plain": [
       "['Lead Data Scientist',\n",
       " 'Analystics & Modeling Specialist',\n",
       " 'Data Scientist',\n",
       " 'Data Scientist - NLP (looking For early joiners)',\n",
       " 'DATA SCIENTIST-1',\n",
       " 'Data Scientist',\n",
       " 'Senior Data Scientist',\n",
       " 'Data Scientist',\n",
       " 'Data Scientist Iii',\n",
       " 'Data Scientist (Mlops) Iii']"
      ]
     },
     "execution_count": 23,
     "metadata": {},
     "output_type": "execute_result"
    }
   ],
   "source": [
    "titles=[]\n",
    "tit=driver.find_elements(By.XPATH,'//a[@class=\"title fw500 ellipsis\"]')\n",
    "for i in tit[0:10]:\n",
    "    titles.append(i.text)\n",
    "titles"
   ]
  },
  {
   "cell_type": "code",
   "execution_count": 24,
   "id": "f7eb63c8",
   "metadata": {},
   "outputs": [
    {
     "data": {
      "text/plain": [
       "['Bangalore/Bengaluru, Noida, Hyderabad/Secunderabad, Pune, Chennai, Mumbai (All Areas)',\n",
       " 'Bangalore/Bengaluru, Kolkata, Mumbai, Hyderabad/Secunderabad, Pune, Chennai',\n",
       " 'Hybrid - Bangalore/Bengaluru, Noida, Hyderabad/Secunderabad, Pune, Chennai, Mumbai (All Areas)',\n",
       " 'Temp. WFH - Bangalore/Bengaluru, Pune, Chennai',\n",
       " 'Bangalore/Bengaluru',\n",
       " 'Hybrid - Bangalore/Bengaluru, Noida, Kolkata, Hyderabad/Secunderabad, Pune, Chennai',\n",
       " 'Bangalore/Bengaluru, Mumbai',\n",
       " 'Bangalore/Bengaluru',\n",
       " 'Bangalore/Bengaluru',\n",
       " 'Bangalore/Bengaluru']"
      ]
     },
     "execution_count": 24,
     "metadata": {},
     "output_type": "execute_result"
    }
   ],
   "source": [
    "location=[]\n",
    "loc=driver.find_elements(By.XPATH,'//li[@class=\"fleft grey-text br2 placeHolderLi location\"]')\n",
    "for i in loc[0:10]:\n",
    "    location.append(i.text)\n",
    "location"
   ]
  },
  {
   "cell_type": "code",
   "execution_count": 25,
   "id": "e4ec5dec",
   "metadata": {},
   "outputs": [
    {
     "name": "stdout",
     "output_type": "stream",
     "text": [
      "10\n"
     ]
    }
   ],
   "source": [
    "print(len(location))"
   ]
  },
  {
   "cell_type": "code",
   "execution_count": 26,
   "id": "ab0e284b",
   "metadata": {},
   "outputs": [
    {
     "data": {
      "text/plain": [
       "['Birlasoft',\n",
       " 'Accenture',\n",
       " 'Birlasoft',\n",
       " 'Wipro',\n",
       " 'Walmart',\n",
       " 'Mindtree',\n",
       " 'Baker Hughes',\n",
       " 'Walmart',\n",
       " 'Walmart',\n",
       " 'Walmart']"
      ]
     },
     "execution_count": 26,
     "metadata": {},
     "output_type": "execute_result"
    }
   ],
   "source": [
    "name=[]\n",
    "comp=driver.find_elements(By.XPATH,'//a[@class=\"subTitle ellipsis fleft\"]')\n",
    "for i in comp[0:10]:\n",
    "    name.append(i.text)\n",
    "name"
   ]
  },
  {
   "cell_type": "code",
   "execution_count": 27,
   "id": "05d3b62f",
   "metadata": {},
   "outputs": [],
   "source": [
    "df=pd.DataFrame({'titles':titles,'names':name,'location':location})"
   ]
  },
  {
   "cell_type": "code",
   "execution_count": 28,
   "id": "87aa5fc8",
   "metadata": {},
   "outputs": [
    {
     "data": {
      "text/html": [
       "<div>\n",
       "<style scoped>\n",
       "    .dataframe tbody tr th:only-of-type {\n",
       "        vertical-align: middle;\n",
       "    }\n",
       "\n",
       "    .dataframe tbody tr th {\n",
       "        vertical-align: top;\n",
       "    }\n",
       "\n",
       "    .dataframe thead th {\n",
       "        text-align: right;\n",
       "    }\n",
       "</style>\n",
       "<table border=\"1\" class=\"dataframe\">\n",
       "  <thead>\n",
       "    <tr style=\"text-align: right;\">\n",
       "      <th></th>\n",
       "      <th>titles</th>\n",
       "      <th>names</th>\n",
       "      <th>location</th>\n",
       "    </tr>\n",
       "  </thead>\n",
       "  <tbody>\n",
       "    <tr>\n",
       "      <th>0</th>\n",
       "      <td>Lead Data Scientist</td>\n",
       "      <td>Birlasoft</td>\n",
       "      <td>Bangalore/Bengaluru, Noida, Hyderabad/Secunder...</td>\n",
       "    </tr>\n",
       "    <tr>\n",
       "      <th>1</th>\n",
       "      <td>Analystics &amp; Modeling Specialist</td>\n",
       "      <td>Accenture</td>\n",
       "      <td>Bangalore/Bengaluru, Kolkata, Mumbai, Hyderaba...</td>\n",
       "    </tr>\n",
       "    <tr>\n",
       "      <th>2</th>\n",
       "      <td>Data Scientist</td>\n",
       "      <td>Birlasoft</td>\n",
       "      <td>Hybrid - Bangalore/Bengaluru, Noida, Hyderabad...</td>\n",
       "    </tr>\n",
       "    <tr>\n",
       "      <th>3</th>\n",
       "      <td>Data Scientist - NLP (looking For early joiners)</td>\n",
       "      <td>Wipro</td>\n",
       "      <td>Temp. WFH - Bangalore/Bengaluru, Pune, Chennai</td>\n",
       "    </tr>\n",
       "    <tr>\n",
       "      <th>4</th>\n",
       "      <td>DATA SCIENTIST-1</td>\n",
       "      <td>Walmart</td>\n",
       "      <td>Bangalore/Bengaluru</td>\n",
       "    </tr>\n",
       "    <tr>\n",
       "      <th>5</th>\n",
       "      <td>Data Scientist</td>\n",
       "      <td>Mindtree</td>\n",
       "      <td>Hybrid - Bangalore/Bengaluru, Noida, Kolkata, ...</td>\n",
       "    </tr>\n",
       "    <tr>\n",
       "      <th>6</th>\n",
       "      <td>Senior Data Scientist</td>\n",
       "      <td>Baker Hughes</td>\n",
       "      <td>Bangalore/Bengaluru, Mumbai</td>\n",
       "    </tr>\n",
       "    <tr>\n",
       "      <th>7</th>\n",
       "      <td>Data Scientist</td>\n",
       "      <td>Walmart</td>\n",
       "      <td>Bangalore/Bengaluru</td>\n",
       "    </tr>\n",
       "    <tr>\n",
       "      <th>8</th>\n",
       "      <td>Data Scientist Iii</td>\n",
       "      <td>Walmart</td>\n",
       "      <td>Bangalore/Bengaluru</td>\n",
       "    </tr>\n",
       "    <tr>\n",
       "      <th>9</th>\n",
       "      <td>Data Scientist (Mlops) Iii</td>\n",
       "      <td>Walmart</td>\n",
       "      <td>Bangalore/Bengaluru</td>\n",
       "    </tr>\n",
       "  </tbody>\n",
       "</table>\n",
       "</div>"
      ],
      "text/plain": [
       "                                             titles         names  \\\n",
       "0                               Lead Data Scientist     Birlasoft   \n",
       "1                  Analystics & Modeling Specialist     Accenture   \n",
       "2                                    Data Scientist     Birlasoft   \n",
       "3  Data Scientist - NLP (looking For early joiners)         Wipro   \n",
       "4                                  DATA SCIENTIST-1       Walmart   \n",
       "5                                    Data Scientist      Mindtree   \n",
       "6                             Senior Data Scientist  Baker Hughes   \n",
       "7                                    Data Scientist       Walmart   \n",
       "8                                Data Scientist Iii       Walmart   \n",
       "9                        Data Scientist (Mlops) Iii       Walmart   \n",
       "\n",
       "                                            location  \n",
       "0  Bangalore/Bengaluru, Noida, Hyderabad/Secunder...  \n",
       "1  Bangalore/Bengaluru, Kolkata, Mumbai, Hyderaba...  \n",
       "2  Hybrid - Bangalore/Bengaluru, Noida, Hyderabad...  \n",
       "3     Temp. WFH - Bangalore/Bengaluru, Pune, Chennai  \n",
       "4                                Bangalore/Bengaluru  \n",
       "5  Hybrid - Bangalore/Bengaluru, Noida, Kolkata, ...  \n",
       "6                        Bangalore/Bengaluru, Mumbai  \n",
       "7                                Bangalore/Bengaluru  \n",
       "8                                Bangalore/Bengaluru  \n",
       "9                                Bangalore/Bengaluru  "
      ]
     },
     "execution_count": 28,
     "metadata": {},
     "output_type": "execute_result"
    }
   ],
   "source": [
    "df"
   ]
  },
  {
   "cell_type": "markdown",
   "id": "12813a60",
   "metadata": {},
   "source": [
    "question 3"
   ]
  },
  {
   "cell_type": "code",
   "execution_count": 6,
   "id": "8ce06551",
   "metadata": {},
   "outputs": [],
   "source": [
    "driver=webdriver.Chrome(r\"C:\\Users\\ADMIN\\Downloads\\chromedriver_win32.zip\\chromedriver.exe\")"
   ]
  },
  {
   "cell_type": "code",
   "execution_count": 7,
   "id": "fe95234a",
   "metadata": {},
   "outputs": [],
   "source": [
    "driver.get('https://www.naukri.com/')"
   ]
  },
  {
   "cell_type": "code",
   "execution_count": 8,
   "id": "40d58e86",
   "metadata": {},
   "outputs": [],
   "source": [
    "design=driver.find_element(By.CLASS_NAME,'suggestor-input ')\n",
    "design.send_keys('Data Scientist')"
   ]
  },
  {
   "cell_type": "code",
   "execution_count": 9,
   "id": "c4b87467",
   "metadata": {},
   "outputs": [],
   "source": [
    "search=driver.find_element(By.CLASS_NAME,'qsbSubmit')\n",
    "search.click()"
   ]
  },
  {
   "cell_type": "code",
   "execution_count": 18,
   "id": "78c7c777",
   "metadata": {},
   "outputs": [],
   "source": [
    "salfilt=driver.find_element(By.XPATH,'/html/body/div[1]/div[4]/div/div/section[1]/div[2]/div[6]/div[2]/div[2]/label/i')"
   ]
  },
  {
   "cell_type": "code",
   "execution_count": 20,
   "id": "92c08e67",
   "metadata": {},
   "outputs": [],
   "source": [
    "salfilt.click()"
   ]
  },
  {
   "cell_type": "code",
   "execution_count": 28,
   "id": "5ccddc85",
   "metadata": {},
   "outputs": [],
   "source": [
    "filt=driver.find_element(By.XPATH,'/html/body/div[1]/div[4]/div/div/section[1]/div[2]/div[1]/div[2]/div[3]/label/i')"
   ]
  },
  {
   "cell_type": "code",
   "execution_count": 29,
   "id": "50c0e414",
   "metadata": {},
   "outputs": [],
   "source": [
    "filt.click()"
   ]
  },
  {
   "cell_type": "code",
   "execution_count": 30,
   "id": "b72e53f3",
   "metadata": {},
   "outputs": [
    {
     "data": {
      "text/plain": [
       "['Artificial Intelligence/Computer Vision Engineer - Machine Learning',\n",
       " 'Modeler',\n",
       " 'Data Activation Specialist - Adobe Target',\n",
       " 'Data Scientist - Engine Algorithm',\n",
       " 'Associate Data Scientist',\n",
       " 'Data Scientist',\n",
       " 'Data Scientist',\n",
       " 'Opening For Jr. Data Scientist with Tatras Data For Delhi location',\n",
       " 'Data Scientist',\n",
       " 'Data Scientist']"
      ]
     },
     "execution_count": 30,
     "metadata": {},
     "output_type": "execute_result"
    }
   ],
   "source": [
    "titles=[]\n",
    "tit=driver.find_elements(By.XPATH,'//a[@class=\"title fw500 ellipsis\"]')\n",
    "for i in tit[0:10]:\n",
    "    titles.append(i.text)\n",
    "titles"
   ]
  },
  {
   "cell_type": "code",
   "execution_count": null,
   "id": "b5dd090a",
   "metadata": {},
   "outputs": [],
   "source": [
    "//a[@class=\"subTitle ellipsis fleft\"]"
   ]
  },
  {
   "cell_type": "code",
   "execution_count": 31,
   "id": "78229874",
   "metadata": {},
   "outputs": [
    {
     "data": {
      "text/plain": [
       "['Vicara',\n",
       " 'Resource Access Management Solutions Pvt. Ltd.',\n",
       " 'Okda Solutions',\n",
       " 'Primo Hiring',\n",
       " 'Navikenz India',\n",
       " 'NGI Ventures',\n",
       " 'torcai digital media',\n",
       " 'Tatras Data Services',\n",
       " 'Americana Restaurants (india)',\n",
       " 'Alliance Recruitment Agency']"
      ]
     },
     "execution_count": 31,
     "metadata": {},
     "output_type": "execute_result"
    }
   ],
   "source": [
    "name=[]\n",
    "comp=driver.find_elements(By.XPATH,'//a[@class=\"subTitle ellipsis fleft\"]')\n",
    "for i in comp[0:10]:\n",
    "    name.append(i.text)\n",
    "name"
   ]
  },
  {
   "cell_type": "code",
   "execution_count": 32,
   "id": "f51ec8a4",
   "metadata": {},
   "outputs": [
    {
     "data": {
      "text/plain": [
       "['Delhi / NCR, Kolkata, Mumbai, Hyderabad/Secunderabad, Pune, Chennai, Ahmedabad, Bangalore/Bengaluru',\n",
       " 'Noida',\n",
       " 'Delhi / NCR, Kolkata, Mumbai, Hyderabad/Secunderabad, Lucknow, Chennai, Ahmedabad, Bangalore/Bengaluru',\n",
       " 'Delhi / NCR, Kolkata, Mumbai, Hyderabad/Secunderabad, Lucknow, Chennai, Ahmedabad, Bangalore/Bengaluru',\n",
       " 'Noida',\n",
       " 'Temp. WFH - Noida',\n",
       " 'Dehradun, Hyderabad/Secunderabad, Gurgaon/Gurugram',\n",
       " 'Delhi / NCR',\n",
       " 'Gurgaon/Gurugram',\n",
       " 'Noida']"
      ]
     },
     "execution_count": 32,
     "metadata": {},
     "output_type": "execute_result"
    }
   ],
   "source": [
    "location=[]\n",
    "loc=driver.find_elements(By.XPATH,'//li[@class=\"fleft grey-text br2 placeHolderLi location\"]')\n",
    "for i in loc[0:10]:\n",
    "    location.append(i.text)\n",
    "location"
   ]
  },
  {
   "cell_type": "code",
   "execution_count": 33,
   "id": "c392e0ed",
   "metadata": {},
   "outputs": [
    {
     "data": {
      "text/plain": [
       "['1-3 Yrs',\n",
       " '3-7 Yrs',\n",
       " '7-10 Yrs',\n",
       " '1-3 Yrs',\n",
       " '3-8 Yrs',\n",
       " '1-5 Yrs',\n",
       " '2-7 Yrs',\n",
       " '2-4 Yrs',\n",
       " '3-8 Yrs',\n",
       " '3-4 Yrs']"
      ]
     },
     "execution_count": 33,
     "metadata": {},
     "output_type": "execute_result"
    }
   ],
   "source": [
    "experince=[]\n",
    "exp=driver.find_elements(By.XPATH,'//li[@class=\"fleft grey-text br2 placeHolderLi experience\"]')\n",
    "for i in exp[0:10]:\n",
    "    experince.append(i.text)\n",
    "experince"
   ]
  },
  {
   "cell_type": "code",
   "execution_count": 34,
   "id": "c121b04b",
   "metadata": {},
   "outputs": [
    {
     "name": "stdout",
     "output_type": "stream",
     "text": [
      "10 10 10 10\n"
     ]
    }
   ],
   "source": [
    "print(len(experince),len(location),len(name),len(titles))"
   ]
  },
  {
   "cell_type": "code",
   "execution_count": 35,
   "id": "8d788ce3",
   "metadata": {},
   "outputs": [],
   "source": [
    "fd=pd.DataFrame({'titles':titles,'names':name,'experience':experince,'location':location})"
   ]
  },
  {
   "cell_type": "code",
   "execution_count": 36,
   "id": "cb8b941d",
   "metadata": {},
   "outputs": [
    {
     "data": {
      "text/html": [
       "<div>\n",
       "<style scoped>\n",
       "    .dataframe tbody tr th:only-of-type {\n",
       "        vertical-align: middle;\n",
       "    }\n",
       "\n",
       "    .dataframe tbody tr th {\n",
       "        vertical-align: top;\n",
       "    }\n",
       "\n",
       "    .dataframe thead th {\n",
       "        text-align: right;\n",
       "    }\n",
       "</style>\n",
       "<table border=\"1\" class=\"dataframe\">\n",
       "  <thead>\n",
       "    <tr style=\"text-align: right;\">\n",
       "      <th></th>\n",
       "      <th>titles</th>\n",
       "      <th>names</th>\n",
       "      <th>experience</th>\n",
       "      <th>location</th>\n",
       "    </tr>\n",
       "  </thead>\n",
       "  <tbody>\n",
       "    <tr>\n",
       "      <th>0</th>\n",
       "      <td>Artificial Intelligence/Computer Vision Engine...</td>\n",
       "      <td>Vicara</td>\n",
       "      <td>1-3 Yrs</td>\n",
       "      <td>Delhi / NCR, Kolkata, Mumbai, Hyderabad/Secund...</td>\n",
       "    </tr>\n",
       "    <tr>\n",
       "      <th>1</th>\n",
       "      <td>Modeler</td>\n",
       "      <td>Resource Access Management Solutions Pvt. Ltd.</td>\n",
       "      <td>3-7 Yrs</td>\n",
       "      <td>Noida</td>\n",
       "    </tr>\n",
       "    <tr>\n",
       "      <th>2</th>\n",
       "      <td>Data Activation Specialist - Adobe Target</td>\n",
       "      <td>Okda Solutions</td>\n",
       "      <td>7-10 Yrs</td>\n",
       "      <td>Delhi / NCR, Kolkata, Mumbai, Hyderabad/Secund...</td>\n",
       "    </tr>\n",
       "    <tr>\n",
       "      <th>3</th>\n",
       "      <td>Data Scientist - Engine Algorithm</td>\n",
       "      <td>Primo Hiring</td>\n",
       "      <td>1-3 Yrs</td>\n",
       "      <td>Delhi / NCR, Kolkata, Mumbai, Hyderabad/Secund...</td>\n",
       "    </tr>\n",
       "    <tr>\n",
       "      <th>4</th>\n",
       "      <td>Associate Data Scientist</td>\n",
       "      <td>Navikenz India</td>\n",
       "      <td>3-8 Yrs</td>\n",
       "      <td>Noida</td>\n",
       "    </tr>\n",
       "    <tr>\n",
       "      <th>5</th>\n",
       "      <td>Data Scientist</td>\n",
       "      <td>NGI Ventures</td>\n",
       "      <td>1-5 Yrs</td>\n",
       "      <td>Temp. WFH - Noida</td>\n",
       "    </tr>\n",
       "    <tr>\n",
       "      <th>6</th>\n",
       "      <td>Data Scientist</td>\n",
       "      <td>torcai digital media</td>\n",
       "      <td>2-7 Yrs</td>\n",
       "      <td>Dehradun, Hyderabad/Secunderabad, Gurgaon/Guru...</td>\n",
       "    </tr>\n",
       "    <tr>\n",
       "      <th>7</th>\n",
       "      <td>Opening For Jr. Data Scientist with Tatras Dat...</td>\n",
       "      <td>Tatras Data Services</td>\n",
       "      <td>2-4 Yrs</td>\n",
       "      <td>Delhi / NCR</td>\n",
       "    </tr>\n",
       "    <tr>\n",
       "      <th>8</th>\n",
       "      <td>Data Scientist</td>\n",
       "      <td>Americana Restaurants (india)</td>\n",
       "      <td>3-8 Yrs</td>\n",
       "      <td>Gurgaon/Gurugram</td>\n",
       "    </tr>\n",
       "    <tr>\n",
       "      <th>9</th>\n",
       "      <td>Data Scientist</td>\n",
       "      <td>Alliance Recruitment Agency</td>\n",
       "      <td>3-4 Yrs</td>\n",
       "      <td>Noida</td>\n",
       "    </tr>\n",
       "  </tbody>\n",
       "</table>\n",
       "</div>"
      ],
      "text/plain": [
       "                                              titles  \\\n",
       "0  Artificial Intelligence/Computer Vision Engine...   \n",
       "1                                            Modeler   \n",
       "2          Data Activation Specialist - Adobe Target   \n",
       "3                  Data Scientist - Engine Algorithm   \n",
       "4                           Associate Data Scientist   \n",
       "5                                     Data Scientist   \n",
       "6                                     Data Scientist   \n",
       "7  Opening For Jr. Data Scientist with Tatras Dat...   \n",
       "8                                     Data Scientist   \n",
       "9                                     Data Scientist   \n",
       "\n",
       "                                            names experience  \\\n",
       "0                                          Vicara    1-3 Yrs   \n",
       "1  Resource Access Management Solutions Pvt. Ltd.    3-7 Yrs   \n",
       "2                                  Okda Solutions   7-10 Yrs   \n",
       "3                                    Primo Hiring    1-3 Yrs   \n",
       "4                                  Navikenz India    3-8 Yrs   \n",
       "5                                    NGI Ventures    1-5 Yrs   \n",
       "6                            torcai digital media    2-7 Yrs   \n",
       "7                            Tatras Data Services    2-4 Yrs   \n",
       "8                   Americana Restaurants (india)    3-8 Yrs   \n",
       "9                     Alliance Recruitment Agency    3-4 Yrs   \n",
       "\n",
       "                                            location  \n",
       "0  Delhi / NCR, Kolkata, Mumbai, Hyderabad/Secund...  \n",
       "1                                              Noida  \n",
       "2  Delhi / NCR, Kolkata, Mumbai, Hyderabad/Secund...  \n",
       "3  Delhi / NCR, Kolkata, Mumbai, Hyderabad/Secund...  \n",
       "4                                              Noida  \n",
       "5                                  Temp. WFH - Noida  \n",
       "6  Dehradun, Hyderabad/Secunderabad, Gurgaon/Guru...  \n",
       "7                                        Delhi / NCR  \n",
       "8                                   Gurgaon/Gurugram  \n",
       "9                                              Noida  "
      ]
     },
     "execution_count": 36,
     "metadata": {},
     "output_type": "execute_result"
    }
   ],
   "source": [
    "fd"
   ]
  },
  {
   "cell_type": "markdown",
   "id": "9b2425fb",
   "metadata": {},
   "source": [
    "question 4"
   ]
  },
  {
   "cell_type": "code",
   "execution_count": 20,
   "id": "3b0997de",
   "metadata": {},
   "outputs": [],
   "source": [
    "driver=webdriver.Chrome(r\"C:\\Users\\ADMIN\\Downloads\\chromedriver_win32.zip\\chromedriver.exe\")"
   ]
  },
  {
   "cell_type": "markdown",
   "id": "eda4ee98",
   "metadata": {},
   "source": [
    "automated chrome window opened"
   ]
  },
  {
   "cell_type": "code",
   "execution_count": 21,
   "id": "c33604b6",
   "metadata": {},
   "outputs": [],
   "source": [
    "driver.get('https://www.flipkart.com/')"
   ]
  },
  {
   "cell_type": "code",
   "execution_count": 22,
   "id": "3326b60f",
   "metadata": {},
   "outputs": [],
   "source": [
    "insert=driver.find_element(By.XPATH,'/html/body/div[1]/div/div[1]/div[1]/div[2]/div[2]/form/div/div/input')"
   ]
  },
  {
   "cell_type": "code",
   "execution_count": 23,
   "id": "ea178519",
   "metadata": {},
   "outputs": [],
   "source": [
    "insert.send_keys('sunglasses')"
   ]
  },
  {
   "cell_type": "code",
   "execution_count": 24,
   "id": "e89f318d",
   "metadata": {},
   "outputs": [],
   "source": [
    "search=driver.find_element(By.CLASS_NAME,'_34RNph')\n",
    "search.click()"
   ]
  },
  {
   "cell_type": "code",
   "execution_count": 26,
   "id": "4b2205fc",
   "metadata": {},
   "outputs": [
    {
     "data": {
      "text/plain": [
       "['PC STAR',\n",
       " 'VINCENT CHASE',\n",
       " 'Fastrack',\n",
       " 'Fastrack',\n",
       " 'Elligator',\n",
       " 'SHAAH COLLECTIONS',\n",
       " 'DAHAAZIL',\n",
       " 'Singco India',\n",
       " 'Fastrack',\n",
       " 'SUNBEE',\n",
       " 'Fastrack',\n",
       " 'VINCENT CHASE',\n",
       " 'PIRASO',\n",
       " 'PHENOMENAL',\n",
       " 'New Specs',\n",
       " 'VINCENT CHASE',\n",
       " 'LIZA ANGEL',\n",
       " 'Fastrack',\n",
       " 'Elligator',\n",
       " 'PC STAR',\n",
       " 'PIRASO',\n",
       " 'Sewell',\n",
       " 'kingsunglasses',\n",
       " 'Resist',\n",
       " 'Fastrack',\n",
       " 'ROZZETTA CRAFT',\n",
       " 'Elligator',\n",
       " 'IZAAN MART',\n",
       " 'Fastrack',\n",
       " 'VINCENT CHASE',\n",
       " 'Fastrack',\n",
       " 'PC STAR',\n",
       " 'Fastrack',\n",
       " 'SUNBEE',\n",
       " 'Fastrack',\n",
       " 'PC STAR',\n",
       " 'Fastrack',\n",
       " 'Fastrack',\n",
       " 'GANSTA',\n",
       " 'CART2DEAL']"
      ]
     },
     "execution_count": 26,
     "metadata": {},
     "output_type": "execute_result"
    }
   ],
   "source": [
    "name=[]\n",
    "comp=driver.find_elements(By.XPATH,'//div[@class=\"_2WkVRV\"]')\n",
    "for i in comp:\n",
    "    name.append(i.text)\n",
    "name"
   ]
  },
  {
   "cell_type": "code",
   "execution_count": 27,
   "id": "24de4ad0",
   "metadata": {},
   "outputs": [
    {
     "name": "stdout",
     "output_type": "stream",
     "text": [
      "40\n"
     ]
    }
   ],
   "source": [
    "price=[]\n",
    "p=driver.find_elements(By.XPATH,'//div[@class=\"_30jeq3\"]')\n",
    "for i in p:\n",
    "    price.append(i.text)\n",
    "print(len(price))"
   ]
  },
  {
   "cell_type": "code",
   "execution_count": 28,
   "id": "45fafd32",
   "metadata": {},
   "outputs": [
    {
     "name": "stdout",
     "output_type": "stream",
     "text": [
      "40\n"
     ]
    }
   ],
   "source": [
    "urls=[]\n",
    "u=driver.find_elements(By.XPATH,'//a[@class=\"_2UzuFa\"]')\n",
    "for i in u:\n",
    "    urls.append(i.get_attribute('href'))\n",
    "print(len(urls))"
   ]
  },
  {
   "cell_type": "code",
   "execution_count": 29,
   "id": "d523d841",
   "metadata": {},
   "outputs": [],
   "source": [
    "next_button=driver.find_element(By.XPATH,'//a[@class=\"_1LKTO3\"]')\n",
    "next_button.click()"
   ]
  },
  {
   "cell_type": "markdown",
   "id": "d8692343",
   "metadata": {},
   "source": [
    "scrapping data for second page"
   ]
  },
  {
   "cell_type": "code",
   "execution_count": 30,
   "id": "d9a0d565",
   "metadata": {},
   "outputs": [
    {
     "data": {
      "text/plain": [
       "['SUNBEE',\n",
       " 'Fastrack',\n",
       " 'PIRASO',\n",
       " 'ROZZETTA CRAFT',\n",
       " 'GANSTA',\n",
       " 'Fastrack',\n",
       " 'ROZZETTA CRAFT',\n",
       " 'ROZZETTA CRAFT',\n",
       " 'Rich Club',\n",
       " 'Fastrack',\n",
       " 'SRPM',\n",
       " 'ROZZETTA CRAFT',\n",
       " 'ROZZETTA CRAFT',\n",
       " 'Fastrack',\n",
       " 'Rich Club',\n",
       " 'ROZZETTA CRAFT',\n",
       " 'Satyam Kraft',\n",
       " 'Fastrack',\n",
       " 'kingsunglasses',\n",
       " 'Singco India',\n",
       " 'LIZA ANGEL',\n",
       " 'SRPM',\n",
       " 'kingsunglasses',\n",
       " 'ROZZETTA CRAFT',\n",
       " 'Fastrack',\n",
       " 'ROZZETTA CRAFT',\n",
       " 'LIZA ANGEL',\n",
       " 'PROVOGUE',\n",
       " 'VINCENT CHASE',\n",
       " 'Elligator',\n",
       " 'kingsunglasses',\n",
       " 'IZAAN MART',\n",
       " 'PROVOGUE',\n",
       " 'IDEE',\n",
       " 'VINCENT CHASE',\n",
       " 'PC STAR',\n",
       " 'Elligator',\n",
       " 'Fastrack',\n",
       " 'Fastrack',\n",
       " 'ROZZETTA CRAFT']"
      ]
     },
     "execution_count": 30,
     "metadata": {},
     "output_type": "execute_result"
    }
   ],
   "source": [
    "name=[]\n",
    "comp=driver.find_elements(By.XPATH,'//div[@class=\"_2WkVRV\"]')\n",
    "for i in comp:\n",
    "    name.append(i.text)\n",
    "name"
   ]
  },
  {
   "cell_type": "code",
   "execution_count": 32,
   "id": "60e4d55e",
   "metadata": {},
   "outputs": [
    {
     "data": {
      "text/plain": [
       "['₹185',\n",
       " '₹649',\n",
       " '₹329',\n",
       " '₹471',\n",
       " '₹299',\n",
       " '₹909',\n",
       " '₹649',\n",
       " '₹391',\n",
       " '₹353',\n",
       " '₹629',\n",
       " '₹216',\n",
       " '₹649',\n",
       " '₹499',\n",
       " '₹649',\n",
       " '₹258',\n",
       " '₹423',\n",
       " '₹299',\n",
       " '₹566',\n",
       " '₹213',\n",
       " '₹299',\n",
       " '₹152',\n",
       " '₹238',\n",
       " '₹169',\n",
       " '₹445',\n",
       " '₹519',\n",
       " '₹339',\n",
       " '₹182',\n",
       " '₹629',\n",
       " '₹849',\n",
       " '₹216',\n",
       " '₹255',\n",
       " '₹450',\n",
       " '₹559',\n",
       " '₹1,179',\n",
       " '₹999',\n",
       " '₹229',\n",
       " '₹220',\n",
       " '₹575',\n",
       " '₹1,039',\n",
       " '₹521']"
      ]
     },
     "execution_count": 32,
     "metadata": {},
     "output_type": "execute_result"
    }
   ],
   "source": [
    "price=[]\n",
    "p=driver.find_elements(By.XPATH,'//div[@class=\"_30jeq3\"]')\n",
    "for i in p:\n",
    "    price.append(i.text)\n",
    "price"
   ]
  },
  {
   "cell_type": "code",
   "execution_count": 34,
   "id": "98ee835e",
   "metadata": {},
   "outputs": [
    {
     "data": {
      "text/plain": [
       "['https://www.flipkart.com/sunbee-cat-eye-sunglasses/p/itmd00a36e592201?pid=SGLGJXWPSSFFMMX7&lid=LSTSGLGJXWPSSFFMMX7SVLYVV&marketplace=FLIPKART&q=sunglasses&store=26x&srno=s_2_41&otracker=search&otracker1=search&fm=Search&iid=39a414ea-2331-410e-840b-8be10637d085.SGLGJXWPSSFFMMX7.SEARCH&ppt=sp&ppn=sp&ssid=doyhvk0bb40000001671893538264&qH=2cc465e3eef5bff0',\n",
       " 'https://www.flipkart.com/fastrack-wayfarer-sunglasses/p/itm4297d4c05fa6c?pid=SGLF79DQWYPMFYVY&lid=LSTSGLF79DQWYPMFYVYXBJEXX&marketplace=FLIPKART&q=sunglasses&store=26x&srno=s_2_42&otracker=search&otracker1=search&fm=Search&iid=39a414ea-2331-410e-840b-8be10637d085.SGLF79DQWYPMFYVY.SEARCH&ppt=sp&ppn=sp&ssid=doyhvk0bb40000001671893538264&qH=2cc465e3eef5bff0',\n",
       " 'https://www.flipkart.com/piraso-aviator-sunglasses/p/itm405062704fcc0?pid=SGLFTYY5NWNKSC64&lid=LSTSGLFTYY5NWNKSC64YLGIVW&marketplace=FLIPKART&q=sunglasses&store=26x&srno=s_2_43&otracker=search&otracker1=search&fm=Search&iid=39a414ea-2331-410e-840b-8be10637d085.SGLFTYY5NWNKSC64.SEARCH&ppt=sp&ppn=sp&ssid=doyhvk0bb40000001671893538264&qH=2cc465e3eef5bff0',\n",
       " 'https://www.flipkart.com/rozzetta-craft-sports-wrap-around-sunglasses/p/itm10af50b049674?pid=SGLG9AFQF2HNHK7A&lid=LSTSGLG9AFQF2HNHK7AIIXH1I&marketplace=FLIPKART&q=sunglasses&store=26x&srno=s_2_44&otracker=search&otracker1=search&fm=Search&iid=en_Zk4JzvrV%2BRR9WadHr2naIbdic6P16%2FEkucVRXSFaJ0mGfFOcBNr9n5C3ogqWZ1wzl40KfTf31kyJOLvyxSNveg%3D%3D&ppt=sp&ppn=sp&ssid=doyhvk0bb40000001671893538264&qH=2cc465e3eef5bff0',\n",
       " 'https://www.flipkart.com/gansta-aviator-sunglasses/p/itmf7hmfp5r8hcdb?pid=SGLF7HGZKHHSTQ8H&lid=LSTSGLF7HGZKHHSTQ8H5VK4WX&marketplace=FLIPKART&q=sunglasses&store=26x&srno=s_2_45&otracker=search&otracker1=search&fm=Search&iid=39a414ea-2331-410e-840b-8be10637d085.SGLF7HGZKHHSTQ8H.SEARCH&ppt=sp&ppn=sp&ssid=doyhvk0bb40000001671893538264&qH=2cc465e3eef5bff0',\n",
       " 'https://www.flipkart.com/fastrack-aviator-sunglasses/p/itmd86675766ab22?pid=SGLFKYGH5RNKQFHZ&lid=LSTSGLFKYGH5RNKQFHZETUIWB&marketplace=FLIPKART&q=sunglasses&store=26x&srno=s_2_46&otracker=search&otracker1=search&fm=Search&iid=39a414ea-2331-410e-840b-8be10637d085.SGLFKYGH5RNKQFHZ.SEARCH&ppt=sp&ppn=sp&ssid=doyhvk0bb40000001671893538264&qH=2cc465e3eef5bff0',\n",
       " 'https://www.flipkart.com/rozzetta-craft-aviator-sunglasses/p/itmc9526f7e510e3?pid=SGLGFXSGU9KXRFRX&lid=LSTSGLGFXSGU9KXRFRXTSVYTJ&marketplace=FLIPKART&q=sunglasses&store=26x&srno=s_2_47&otracker=search&otracker1=search&fm=Search&iid=39a414ea-2331-410e-840b-8be10637d085.SGLGFXSGU9KXRFRX.SEARCH&ppt=sp&ppn=sp&ssid=doyhvk0bb40000001671893538264&qH=2cc465e3eef5bff0',\n",
       " 'https://www.flipkart.com/rozzetta-craft-round-sunglasses/p/itm992d1d1202834?pid=SGLFMG6DHUPTH2VB&lid=LSTSGLFMG6DHUPTH2VBWQRQLV&marketplace=FLIPKART&q=sunglasses&store=26x&srno=s_2_48&otracker=search&otracker1=search&fm=Search&iid=en_Zk4JzvrV%2BRR9WadHr2naIbdic6P16%2FEkucVRXSFaJ0lPowif7Cs6j85%2F2GqQKHEFZc6fi9OtL3z1pudJi2TsiA%3D%3D&ppt=sp&ppn=sp&ssid=doyhvk0bb40000001671893538264&qH=2cc465e3eef5bff0',\n",
       " 'https://www.flipkart.com/rich-club-round-sunglasses/p/itm027470f537cc5?pid=SGLFF2YC9EPWGHQS&lid=LSTSGLFF2YC9EPWGHQSBIJO0K&marketplace=FLIPKART&q=sunglasses&store=26x&srno=s_2_49&otracker=search&otracker1=search&fm=Search&iid=39a414ea-2331-410e-840b-8be10637d085.SGLFF2YC9EPWGHQS.SEARCH&ppt=sp&ppn=sp&ssid=doyhvk0bb40000001671893538264&qH=2cc465e3eef5bff0',\n",
       " 'https://www.flipkart.com/fastrack-wayfarer-sunglasses/p/itm00812e1c3aed5?pid=SGLFG94CMSMFCMPH&lid=LSTSGLFG94CMSMFCMPHRHB659&marketplace=FLIPKART&q=sunglasses&store=26x&srno=s_2_50&otracker=search&otracker1=search&fm=Search&iid=39a414ea-2331-410e-840b-8be10637d085.SGLFG94CMSMFCMPH.SEARCH&ppt=sp&ppn=sp&ssid=doyhvk0bb40000001671893538264&qH=2cc465e3eef5bff0',\n",
       " 'https://www.flipkart.com/srpm-wayfarer-sunglasses/p/itmaf19ae5820c06?pid=SGLFHQPHY2GZ4HFP&lid=LSTSGLFHQPHY2GZ4HFP0AZWKY&marketplace=FLIPKART&q=sunglasses&store=26x&spotlightTagId=BestsellerId_26x&srno=s_2_51&otracker=search&otracker1=search&fm=Search&iid=39a414ea-2331-410e-840b-8be10637d085.SGLFHQPHY2GZ4HFP.SEARCH&ppt=sp&ppn=sp&ssid=doyhvk0bb40000001671893538264&qH=2cc465e3eef5bff0',\n",
       " 'https://www.flipkart.com/rozzetta-craft-aviator-sunglasses/p/itm77c49bbb1ddbf?pid=SGLG9FDBZPZNXHJW&lid=LSTSGLG9FDBZPZNXHJWBMKKV7&marketplace=FLIPKART&q=sunglasses&store=26x&srno=s_2_52&otracker=search&otracker1=search&fm=Search&iid=en_Zk4JzvrV%2BRR9WadHr2naIbdic6P16%2FEkucVRXSFaJ0kp%2F6Rpa%2BtqIyW9%2FoAc0ZPVuuDPp8BLehXUB28QwuSqtg%3D%3D&ppt=sp&ppn=sp&ssid=doyhvk0bb40000001671893538264&qH=2cc465e3eef5bff0',\n",
       " 'https://www.flipkart.com/rozzetta-craft-retro-square-sunglasses/p/itmf248ba5b3a895?pid=SGLFZFZNAQNZHYB7&lid=LSTSGLFZFZNAQNZHYB7GZ3YO5&marketplace=FLIPKART&q=sunglasses&store=26x&srno=s_2_53&otracker=search&otracker1=search&fm=Search&iid=39a414ea-2331-410e-840b-8be10637d085.SGLFZFZNAQNZHYB7.SEARCH&ppt=sp&ppn=sp&ssid=doyhvk0bb40000001671893538264&qH=2cc465e3eef5bff0',\n",
       " 'https://www.flipkart.com/fastrack-wayfarer-sunglasses/p/itme89404d9548ff?pid=SGLF79DQWCWEFUNR&lid=LSTSGLF79DQWCWEFUNRINKNYY&marketplace=FLIPKART&q=sunglasses&store=26x&srno=s_2_54&otracker=search&otracker1=search&fm=Search&iid=39a414ea-2331-410e-840b-8be10637d085.SGLF79DQWCWEFUNR.SEARCH&ppt=sp&ppn=sp&ssid=doyhvk0bb40000001671893538264&qH=2cc465e3eef5bff0',\n",
       " 'https://www.flipkart.com/rich-club-retro-square-sunglasses/p/itm36b32b2852761?pid=SGLGDVVBXSTKDRUQ&lid=LSTSGLGDVVBXSTKDRUQ2DLC9T&marketplace=FLIPKART&q=sunglasses&store=26x&srno=s_2_55&otracker=search&otracker1=search&fm=Search&iid=39a414ea-2331-410e-840b-8be10637d085.SGLGDVVBXSTKDRUQ.SEARCH&ppt=sp&ppn=sp&ssid=doyhvk0bb40000001671893538264&qH=2cc465e3eef5bff0',\n",
       " 'https://www.flipkart.com/rozzetta-craft-rectangular-sunglasses/p/itm7c7f15b2328e4?pid=SGLGB7UVGKERNGEH&lid=LSTSGLGB7UVGKERNGEH4JURBR&marketplace=FLIPKART&q=sunglasses&store=26x&srno=s_2_56&otracker=search&otracker1=search&fm=Search&iid=en_Zk4JzvrV%2BRR9WadHr2naIbdic6P16%2FEkucVRXSFaJ0k5VkZIygf%2Bh0XDq13j1DuUflLtBYslQ7Cx%2Ff2rW%2FtnQQ%3D%3D&ppt=sp&ppn=sp&ssid=doyhvk0bb40000001671893538264&qH=2cc465e3eef5bff0',\n",
       " 'https://www.flipkart.com/satyam-kraft-spectacle-sunglasses/p/itm0409a299fe9bb?pid=SGLGDGHKFBRECVRE&lid=LSTSGLGDGHKFBRECVRED4OLYN&marketplace=FLIPKART&q=sunglasses&store=26x&srno=s_2_57&otracker=search&otracker1=search&fm=Search&iid=39a414ea-2331-410e-840b-8be10637d085.SGLGDGHKFBRECVRE.SEARCH&ppt=sp&ppn=sp&ssid=doyhvk0bb40000001671893538264&qH=2cc465e3eef5bff0',\n",
       " 'https://www.flipkart.com/fastrack-wayfarer-sunglasses/p/itm09b8a67de159a?pid=SGLFG94CXYTBH8XR&lid=LSTSGLFG94CXYTBH8XRIFJZCU&marketplace=FLIPKART&q=sunglasses&store=26x&srno=s_2_58&otracker=search&otracker1=search&fm=Search&iid=39a414ea-2331-410e-840b-8be10637d085.SGLFG94CXYTBH8XR.SEARCH&ppt=sp&ppn=sp&ssid=doyhvk0bb40000001671893538264&qH=2cc465e3eef5bff0',\n",
       " 'https://www.flipkart.com/kingsunglasses-wayfarer-sunglasses/p/itmb42161fdc7626?pid=SGLFTUBUZUNHHWPQ&lid=LSTSGLFTUBUZUNHHWPQ3RZ2KW&marketplace=FLIPKART&q=sunglasses&store=26x&srno=s_2_59&otracker=search&otracker1=search&fm=Search&iid=39a414ea-2331-410e-840b-8be10637d085.SGLFTUBUZUNHHWPQ.SEARCH&ppt=sp&ppn=sp&ssid=doyhvk0bb40000001671893538264&qH=2cc465e3eef5bff0',\n",
       " 'https://www.flipkart.com/singco-india-wrap-around-retro-square-over-sized-sunglasses/p/itm6903a4c8e406a?pid=SGLFUKACGVUQMUYS&lid=LSTSGLFUKACGVUQMUYSSIYPFI&marketplace=FLIPKART&q=sunglasses&store=26x&srno=s_2_60&otracker=search&otracker1=search&fm=Search&iid=en_Zk4JzvrV%2BRR9WadHr2naIbdic6P16%2FEkucVRXSFaJ0mdYM8SXORfTCLAm0nZoSJm2rHsNe35g9nxHLhK5vmtlw%3D%3D&ppt=sp&ppn=sp&ssid=doyhvk0bb40000001671893538264&qH=2cc465e3eef5bff0',\n",
       " 'https://www.flipkart.com/liza-angel-wayfarer-sunglasses/p/itmfezf8zwg9ahrj?pid=SGLFENH5NZJHUNWX&lid=LSTSGLFENH5NZJHUNWXMIKJMU&marketplace=FLIPKART&q=sunglasses&store=26x&srno=s_2_61&otracker=search&otracker1=search&fm=Search&iid=39a414ea-2331-410e-840b-8be10637d085.SGLFENH5NZJHUNWX.SEARCH&ppt=sp&ppn=sp&ssid=doyhvk0bb40000001671893538264&qH=2cc465e3eef5bff0',\n",
       " 'https://www.flipkart.com/srpm-round-sunglasses/p/itm93366f6dffae4?pid=SGLG6SHKDUSKWP2Y&lid=LSTSGLG6SHKDUSKWP2YQMLKXB&marketplace=FLIPKART&q=sunglasses&store=26x&srno=s_2_62&otracker=search&otracker1=search&fm=Search&iid=39a414ea-2331-410e-840b-8be10637d085.SGLG6SHKDUSKWP2Y.SEARCH&ppt=sp&ppn=sp&ssid=doyhvk0bb40000001671893538264&qH=2cc465e3eef5bff0',\n",
       " 'https://www.flipkart.com/kingsunglasses-cat-eye-sunglasses/p/itm58121bafd099b?pid=SGLGGV5HBAGM7VXF&lid=LSTSGLGGV5HBAGM7VXFQKVAAB&marketplace=FLIPKART&q=sunglasses&store=26x&srno=s_2_63&otracker=search&otracker1=search&fm=Search&iid=39a414ea-2331-410e-840b-8be10637d085.SGLGGV5HBAGM7VXF.SEARCH&ppt=sp&ppn=sp&ssid=doyhvk0bb40000001671893538264&qH=2cc465e3eef5bff0',\n",
       " 'https://www.flipkart.com/rozzetta-craft-aviator-sunglasses/p/itm8e1c4538ad4fe?pid=SGLGFVM2G3CGZGGW&lid=LSTSGLGFVM2G3CGZGGWYOHENE&marketplace=FLIPKART&q=sunglasses&store=26x&srno=s_2_64&otracker=search&otracker1=search&fm=Search&iid=en_Zk4JzvrV%2BRR9WadHr2naIbdic6P16%2FEkucVRXSFaJ0my%2BTAr9oAOaBs8rVSuXssXypN16nH5nxJVPtji9%2FuJkg%3D%3D&ppt=sp&ppn=sp&ssid=doyhvk0bb40000001671893538264&qH=2cc465e3eef5bff0',\n",
       " 'https://www.flipkart.com/fastrack-rectangular-sunglasses/p/itm8b1e534d867a2?pid=SGLFG94CAT9VHUWH&lid=LSTSGLFG94CAT9VHUWHIQ7HTK&marketplace=FLIPKART&q=sunglasses&store=26x&srno=s_2_65&otracker=search&otracker1=search&fm=Search&iid=39a414ea-2331-410e-840b-8be10637d085.SGLFG94CAT9VHUWH.SEARCH&ppt=sp&ppn=sp&ssid=doyhvk0bb40000001671893538264&qH=2cc465e3eef5bff0',\n",
       " 'https://www.flipkart.com/rozzetta-craft-butterfly-shield-sunglasses/p/itm274d7a2a36e03?pid=SGLFSG4CECYRH4MF&lid=LSTSGLFSG4CECYRH4MFO6XJKU&marketplace=FLIPKART&q=sunglasses&store=26x&srno=s_2_66&otracker=search&otracker1=search&fm=Search&iid=39a414ea-2331-410e-840b-8be10637d085.SGLFSG4CECYRH4MF.SEARCH&ppt=sp&ppn=sp&ssid=doyhvk0bb40000001671893538264&qH=2cc465e3eef5bff0',\n",
       " 'https://www.flipkart.com/liza-angel-spectacle-sunglasses/p/itm6af69bbbcf24f?pid=SGLG3EFSZJDJ3YJZ&lid=LSTSGLG3EFSZJDJ3YJZC6L2YG&marketplace=FLIPKART&q=sunglasses&store=26x&srno=s_2_67&otracker=search&otracker1=search&fm=Search&iid=39a414ea-2331-410e-840b-8be10637d085.SGLG3EFSZJDJ3YJZ.SEARCH&ppt=sp&ppn=sp&ssid=doyhvk0bb40000001671893538264&qH=2cc465e3eef5bff0',\n",
       " 'https://www.flipkart.com/provogue-rectangular-sunglasses/p/itm1e8e90a7b927d?pid=SGLGHUANBAX5ZDHV&lid=LSTSGLGHUANBAX5ZDHVYSVTDM&marketplace=FLIPKART&q=sunglasses&store=26x&srno=s_2_68&otracker=search&otracker1=search&fm=Search&iid=en_Zk4JzvrV%2BRR9WadHr2naIbdic6P16%2FEkucVRXSFaJ0nuVnLzD6oSqSOouDc7CEkmqNUtENOy48vi5wXgz2cWig%3D%3D&ppt=sp&ppn=sp&ssid=doyhvk0bb40000001671893538264&qH=2cc465e3eef5bff0',\n",
       " 'https://www.flipkart.com/vincent-chase-round-sunglasses/p/itmd1a5459d7922e?pid=SGLG8D97CM8TJXKQ&lid=LSTSGLG8D97CM8TJXKQG1G8QR&marketplace=FLIPKART&q=sunglasses&store=26x&srno=s_2_69&otracker=search&otracker1=search&fm=Search&iid=39a414ea-2331-410e-840b-8be10637d085.SGLG8D97CM8TJXKQ.SEARCH&ppt=sp&ppn=sp&ssid=doyhvk0bb40000001671893538264&qH=2cc465e3eef5bff0',\n",
       " 'https://www.flipkart.com/elligator-cat-eye-retro-square-wayfarer-sunglasses/p/itmfdbbb6856278f?pid=SGLG9JFSYCUPHSZZ&lid=LSTSGLG9JFSYCUPHSZZZAPXYL&marketplace=FLIPKART&q=sunglasses&store=26x&srno=s_2_70&otracker=search&otracker1=search&fm=Search&iid=39a414ea-2331-410e-840b-8be10637d085.SGLG9JFSYCUPHSZZ.SEARCH&ppt=sp&ppn=sp&ssid=doyhvk0bb40000001671893538264&qH=2cc465e3eef5bff0',\n",
       " 'https://www.flipkart.com/kingsunglasses-rectangular-sunglasses/p/itm7a1f2d0b309e9?pid=SGLGYFFNQNFTBBVU&lid=LSTSGLGYFFNQNFTBBVUXSSV7U&marketplace=FLIPKART&q=sunglasses&store=26x&srno=s_2_71&otracker=search&otracker1=search&fm=Search&iid=39a414ea-2331-410e-840b-8be10637d085.SGLGYFFNQNFTBBVU.SEARCH&ppt=sp&ppn=sp&ssid=doyhvk0bb40000001671893538264&qH=2cc465e3eef5bff0',\n",
       " 'https://www.flipkart.com/izaan-mart-sports-sunglasses/p/itmfb01c67589037?pid=SGLG9HDMBZBFGM8T&lid=LSTSGLG9HDMBZBFGM8TFZFSMH&marketplace=FLIPKART&q=sunglasses&store=26x&srno=s_2_72&otracker=search&otracker1=search&fm=Search&iid=en_Zk4JzvrV%2BRR9WadHr2naIbdic6P16%2FEkucVRXSFaJ0mz3riLgZzcWjiJJZ%2FAFcVkhDpEhwske4GLhsbKHCKC9g%3D%3D&ppt=sp&ppn=sp&ssid=doyhvk0bb40000001671893538264&qH=2cc465e3eef5bff0',\n",
       " 'https://www.flipkart.com/provogue-rectangular-sunglasses/p/itm93e9dcbacd1e8?pid=SGLGGFHQA7WXKXBU&lid=LSTSGLGGFHQA7WXKXBUKYST3X&marketplace=FLIPKART&q=sunglasses&store=26x&srno=s_2_73&otracker=search&otracker1=search&fm=Search&iid=39a414ea-2331-410e-840b-8be10637d085.SGLGGFHQA7WXKXBU.SEARCH&ppt=sp&ppn=sp&ssid=doyhvk0bb40000001671893538264&qH=2cc465e3eef5bff0',\n",
       " 'https://www.flipkart.com/idee-wayfarer-sunglasses/p/itmeeef65d199254?pid=SGLG6JBHFECWZHWB&lid=LSTSGLG6JBHFECWZHWBBDD9UE&marketplace=FLIPKART&q=sunglasses&store=26x&srno=s_2_74&otracker=search&otracker1=search&fm=Search&iid=39a414ea-2331-410e-840b-8be10637d085.SGLG6JBHFECWZHWB.SEARCH&ppt=sp&ppn=sp&ssid=doyhvk0bb40000001671893538264&qH=2cc465e3eef5bff0',\n",
       " 'https://www.flipkart.com/vincent-chase-lenskart-wayfarer-sunglasses/p/itmbb7848661de72?pid=SGLFU52HZNGH6YAV&lid=LSTSGLFU52HZNGH6YAV9SZ0PT&marketplace=FLIPKART&q=sunglasses&store=26x&srno=s_2_75&otracker=search&otracker1=search&fm=Search&iid=39a414ea-2331-410e-840b-8be10637d085.SGLFU52HZNGH6YAV.SEARCH&ppt=sp&ppn=sp&ssid=doyhvk0bb40000001671893538264&qH=2cc465e3eef5bff0',\n",
       " 'https://www.flipkart.com/pc-star-rectangular-sunglasses/p/itm8fd0c69d35e4e?pid=SGLFUURFFVJDFRVC&lid=LSTSGLFUURFFVJDFRVCJWYWB8&marketplace=FLIPKART&q=sunglasses&store=26x&srno=s_2_76&otracker=search&otracker1=search&fm=Search&iid=en_Zk4JzvrV%2BRR9WadHr2naIbdic6P16%2FEkucVRXSFaJ0mSNLQyGMwvRPqvX5%2Bk7zrH3p0SPGw4h2yV55%2B20vWJNQ%3D%3D&ppt=sp&ppn=sp&ssid=doyhvk0bb40000001671893538264&qH=2cc465e3eef5bff0',\n",
       " 'https://www.flipkart.com/elligator-round-sunglasses/p/itmfhsbqywv36y54?pid=SGLFHRKF5GPR6ZBY&lid=LSTSGLFHRKF5GPR6ZBY1Z1BRU&marketplace=FLIPKART&q=sunglasses&store=26x&srno=s_2_77&otracker=search&otracker1=search&fm=Search&iid=39a414ea-2331-410e-840b-8be10637d085.SGLFHRKF5GPR6ZBY.SEARCH&ppt=sp&ppn=sp&ssid=doyhvk0bb40000001671893538264&qH=2cc465e3eef5bff0',\n",
       " 'https://www.flipkart.com/fastrack-wayfarer-sunglasses/p/itm90ae8b9ce633b?pid=SGLFHBY3ZHESCSHR&lid=LSTSGLFHBY3ZHESCSHRWHRPJ2&marketplace=FLIPKART&q=sunglasses&store=26x&srno=s_2_78&otracker=search&otracker1=search&fm=Search&iid=39a414ea-2331-410e-840b-8be10637d085.SGLFHBY3ZHESCSHR.SEARCH&ppt=sp&ppn=sp&ssid=doyhvk0bb40000001671893538264&qH=2cc465e3eef5bff0',\n",
       " 'https://www.flipkart.com/fastrack-aviator-sunglasses/p/itm047bd71f167bb?pid=SGLFKYGHKP4BXEMH&lid=LSTSGLFKYGHKP4BXEMHPJOINL&marketplace=FLIPKART&q=sunglasses&store=26x&srno=s_2_79&otracker=search&otracker1=search&fm=Search&iid=39a414ea-2331-410e-840b-8be10637d085.SGLFKYGHKP4BXEMH.SEARCH&ppt=sp&ppn=sp&ssid=doyhvk0bb40000001671893538264&qH=2cc465e3eef5bff0',\n",
       " 'https://www.flipkart.com/rozzetta-craft-retro-square-sunglasses/p/itm0bc3fe8c86491?pid=SGLGJUJSFR23RJDM&lid=LSTSGLGJUJSFR23RJDMUNQDCC&marketplace=FLIPKART&q=sunglasses&store=26x&srno=s_2_80&otracker=search&otracker1=search&fm=Search&iid=en_Zk4JzvrV%2BRR9WadHr2naIbdic6P16%2FEkucVRXSFaJ0mbbcnbW7SY%2B2DRIVTiU5UipR6%2FG777x2dcGxnCi8Cz3w%3D%3D&ppt=sp&ppn=sp&ssid=doyhvk0bb40000001671893538264&qH=2cc465e3eef5bff0']"
      ]
     },
     "execution_count": 34,
     "metadata": {},
     "output_type": "execute_result"
    }
   ],
   "source": [
    "urls=[]\n",
    "u=driver.find_elements(By.XPATH,'//a[@class=\"_2UzuFa\"]')\n",
    "for i in u:\n",
    "    urls.append(i.get_attribute('href'))\n",
    "urls"
   ]
  },
  {
   "cell_type": "code",
   "execution_count": 36,
   "id": "56ab5a78",
   "metadata": {},
   "outputs": [],
   "source": [
    "next_button=driver.find_element(By.XPATH,'//a[@class=\"_1LKTO3\"]')\n",
    "next_button.click()"
   ]
  },
  {
   "cell_type": "markdown",
   "id": "644b36b5",
   "metadata": {},
   "source": [
    "scrapping data for third page"
   ]
  },
  {
   "cell_type": "code",
   "execution_count": 40,
   "id": "447b5236",
   "metadata": {},
   "outputs": [
    {
     "name": "stdout",
     "output_type": "stream",
     "text": [
      "20\n"
     ]
    }
   ],
   "source": [
    "Cname=[]\n",
    "comp=driver.find_elements(By.XPATH,'//div[@class=\"_2WkVRV\"]')\n",
    "for i in comp[0:20]:\n",
    "    Cname.append(i.text)\n",
    "print(len(Cname))"
   ]
  },
  {
   "cell_type": "code",
   "execution_count": 42,
   "id": "a5b72afe",
   "metadata": {},
   "outputs": [
    {
     "name": "stdout",
     "output_type": "stream",
     "text": [
      "20\n"
     ]
    }
   ],
   "source": [
    "price=[]\n",
    "p=driver.find_elements(By.XPATH,'//div[@class=\"_30jeq3\"]')\n",
    "for i in p[0:20]:\n",
    "    price.append(i.text)\n",
    "print(len(price))"
   ]
  },
  {
   "cell_type": "markdown",
   "id": "fa2350ee",
   "metadata": {},
   "source": [
    "# Question 5"
   ]
  },
  {
   "cell_type": "code",
   "execution_count": 43,
   "id": "94cd4d61",
   "metadata": {},
   "outputs": [],
   "source": [
    "driver=webdriver.Chrome(r\"C:\\Users\\ADMIN\\Downloads\\chromedriver_win32.zip\\chromedriver.exe\")"
   ]
  },
  {
   "cell_type": "code",
   "execution_count": 47,
   "id": "be9b4fdd",
   "metadata": {},
   "outputs": [
    {
     "ename": "SyntaxError",
     "evalue": "EOL while scanning string literal (3808957548.py, line 1)",
     "output_type": "error",
     "traceback": [
      "\u001b[1;36m  File \u001b[1;32m\"C:\\Users\\ADMIN\\AppData\\Local\\Temp\\ipykernel_10472\\3808957548.py\"\u001b[1;36m, line \u001b[1;32m1\u001b[0m\n\u001b[1;33m    driver.get(driver.get('https://www.flipkart.com/apple-iphone-11-black-64-gb/product)\u001b[0m\n\u001b[1;37m                                                                                        ^\u001b[0m\n\u001b[1;31mSyntaxError\u001b[0m\u001b[1;31m:\u001b[0m EOL while scanning string literal\n"
     ]
    }
   ],
   "source": [
    "driver.get(driver.get('https://www.flipkart.com/apple-iphone-11-black-64-gb/product)"
   ]
  },
  {
   "cell_type": "markdown",
   "id": "d4026074",
   "metadata": {},
   "source": [
    "# question 6"
   ]
  },
  {
   "cell_type": "code",
   "execution_count": 49,
   "id": "80600506",
   "metadata": {},
   "outputs": [],
   "source": [
    "driver=webdriver.Chrome(r\"C:\\Users\\ADMIN\\Downloads\\chromedriver_win32.zip\\chromedriver.exe\")"
   ]
  },
  {
   "cell_type": "code",
   "execution_count": 50,
   "id": "d04d1530",
   "metadata": {},
   "outputs": [],
   "source": [
    "driver.get('https://www.flipkart.com/')"
   ]
  },
  {
   "cell_type": "code",
   "execution_count": 54,
   "id": "48583786",
   "metadata": {},
   "outputs": [],
   "source": [
    "desig=driver.find_element(By.XPATH,'/html/body/div[1]/div/div[1]/div[1]/div[2]/div[2]/form/div/div/input')\n",
    "desig.send_keys('sneakers')"
   ]
  },
  {
   "cell_type": "code",
   "execution_count": 55,
   "id": "0e918d79",
   "metadata": {},
   "outputs": [],
   "source": [
    "search=driver.find_element(By.XPATH,'/html/body/div[1]/div/div[1]/div[1]/div[2]/div[2]/form/div/button')\n",
    "search.click()"
   ]
  },
  {
   "cell_type": "code",
   "execution_count": 57,
   "id": "f6117bb7",
   "metadata": {},
   "outputs": [
    {
     "name": "stdout",
     "output_type": "stream",
     "text": [
      "40\n"
     ]
    }
   ],
   "source": [
    "brand=[]\n",
    "comp=driver.find_elements(By.XPATH,'//div[@class=\"_2WkVRV\"]')\n",
    "for i in comp:\n",
    "    brand.append(i.text)\n",
    "print(len(brand))"
   ]
  },
  {
   "cell_type": "code",
   "execution_count": 62,
   "id": "fd165b9d",
   "metadata": {},
   "outputs": [
    {
     "data": {
      "text/plain": [
       "['₹646',\n",
       " '₹649',\n",
       " '₹359',\n",
       " '₹399',\n",
       " '₹369',\n",
       " '₹498',\n",
       " '₹769',\n",
       " '₹649',\n",
       " '₹539',\n",
       " '₹398',\n",
       " '₹599',\n",
       " '₹499',\n",
       " '₹399',\n",
       " '₹498',\n",
       " '₹439',\n",
       " '₹409',\n",
       " '₹599',\n",
       " '₹581',\n",
       " '₹449',\n",
       " '₹298',\n",
       " '₹581',\n",
       " '₹269',\n",
       " '₹469',\n",
       " '₹485',\n",
       " '₹449',\n",
       " '₹499',\n",
       " '₹478',\n",
       " '₹581',\n",
       " '₹299',\n",
       " '₹359',\n",
       " '₹842',\n",
       " '₹2,799',\n",
       " '₹642',\n",
       " '₹449',\n",
       " '₹499',\n",
       " '₹3,330',\n",
       " '₹369',\n",
       " '₹824',\n",
       " '₹2,249',\n",
       " '₹439']"
      ]
     },
     "execution_count": 62,
     "metadata": {},
     "output_type": "execute_result"
    }
   ],
   "source": [
    "price=[]\n",
    "p=driver.find_elements(By.XPATH,'//div[@class=\"_30jeq3\"]')\n",
    "for i in p:\n",
    "    price.append(i.text)\n",
    "price"
   ]
  },
  {
   "cell_type": "code",
   "execution_count": 64,
   "id": "81e90ccd",
   "metadata": {},
   "outputs": [],
   "source": [
    "next_button=driver.find_element(By.XPATH,'//a[@class=\"_1LKTO3\"]')\n",
    "next_button.click()"
   ]
  },
  {
   "cell_type": "markdown",
   "id": "b7eb94b6",
   "metadata": {},
   "source": [
    "second page"
   ]
  },
  {
   "cell_type": "code",
   "execution_count": 71,
   "id": "a0c62e86",
   "metadata": {},
   "outputs": [
    {
     "name": "stdout",
     "output_type": "stream",
     "text": [
      "40\n"
     ]
    }
   ],
   "source": [
    "brand2=[]\n",
    "comp=driver.find_elements(By.XPATH,'//div[@class=\"_2WkVRV\"]')\n",
    "for i in comp:\n",
    "    brand2.append(i.text)\n",
    "print(len(brand2))"
   ]
  },
  {
   "cell_type": "code",
   "execution_count": 72,
   "id": "7975a880",
   "metadata": {},
   "outputs": [
    {
     "data": {
      "text/plain": [
       "['₹646',\n",
       " '₹369',\n",
       " '₹439',\n",
       " '₹769',\n",
       " '₹499',\n",
       " '₹2,079',\n",
       " '₹499',\n",
       " '₹449',\n",
       " '₹299',\n",
       " '₹469',\n",
       " '₹581',\n",
       " '₹269',\n",
       " '₹539',\n",
       " '₹539',\n",
       " '₹1,799',\n",
       " '₹1,799',\n",
       " '₹649',\n",
       " '₹549',\n",
       " '₹499',\n",
       " '₹499',\n",
       " '₹581',\n",
       " '₹599',\n",
       " '₹2,699',\n",
       " '₹1,299',\n",
       " '₹1,699',\n",
       " '₹499',\n",
       " '₹699',\n",
       " '₹494',\n",
       " '₹399',\n",
       " '₹449',\n",
       " '₹499',\n",
       " '₹581',\n",
       " '₹498',\n",
       " '₹499',\n",
       " '₹539',\n",
       " '₹439',\n",
       " '₹699',\n",
       " '₹599',\n",
       " '₹524',\n",
       " '₹489']"
      ]
     },
     "execution_count": 72,
     "metadata": {},
     "output_type": "execute_result"
    }
   ],
   "source": [
    "price2=[]\n",
    "p=driver.find_elements(By.XPATH,'//div[@class=\"_30jeq3\"]')\n",
    "for i in p:\n",
    "    price2.append(i.text)\n",
    "price2\n"
   ]
  },
  {
   "cell_type": "markdown",
   "id": "ce25b238",
   "metadata": {},
   "source": [
    "third page"
   ]
  },
  {
   "cell_type": "code",
   "execution_count": 67,
   "id": "ead34408",
   "metadata": {},
   "outputs": [],
   "source": [
    "next_button=driver.find_element(By.XPATH,'//a[@class=\"_1LKTO3\"]')\n",
    "next_button.click()"
   ]
  },
  {
   "cell_type": "code",
   "execution_count": 73,
   "id": "e6edbb91",
   "metadata": {},
   "outputs": [
    {
     "name": "stdout",
     "output_type": "stream",
     "text": [
      "40\n"
     ]
    }
   ],
   "source": [
    "brand3=[]\n",
    "comp=driver.find_elements(By.XPATH,'//div[@class=\"_2WkVRV\"]')\n",
    "for i in comp:\n",
    "    brand3.append(i.text)\n",
    "print(len(brand3))"
   ]
  },
  {
   "cell_type": "code",
   "execution_count": 74,
   "id": "08988aac",
   "metadata": {},
   "outputs": [
    {
     "data": {
      "text/plain": [
       "['₹646',\n",
       " '₹369',\n",
       " '₹439',\n",
       " '₹769',\n",
       " '₹499',\n",
       " '₹2,079',\n",
       " '₹499',\n",
       " '₹449',\n",
       " '₹299',\n",
       " '₹469',\n",
       " '₹581',\n",
       " '₹269',\n",
       " '₹539',\n",
       " '₹539',\n",
       " '₹1,799',\n",
       " '₹1,799',\n",
       " '₹649',\n",
       " '₹549',\n",
       " '₹499',\n",
       " '₹499']"
      ]
     },
     "execution_count": 74,
     "metadata": {},
     "output_type": "execute_result"
    }
   ],
   "source": [
    "price3=[]\n",
    "p=driver.find_elements(By.XPATH,'//div[@class=\"_30jeq3\"]')\n",
    "for i in p[0:20]:\n",
    "    price3.append(i.text)\n",
    "price3"
   ]
  },
  {
   "cell_type": "markdown",
   "id": "939b2089",
   "metadata": {},
   "source": [
    "question 7"
   ]
  },
  {
   "cell_type": "code",
   "execution_count": 12,
   "id": "27b485cf",
   "metadata": {},
   "outputs": [],
   "source": [
    "driver=webdriver.Chrome(r\"C:\\Users\\ADMIN\\Downloads\\chromedriver_win32.zip\\chromedriver.exe\")"
   ]
  },
  {
   "cell_type": "code",
   "execution_count": 13,
   "id": "9cbe5872",
   "metadata": {},
   "outputs": [],
   "source": [
    "driver.get('https://www.amazon.in/')"
   ]
  },
  {
   "cell_type": "code",
   "execution_count": 14,
   "id": "497bffe2",
   "metadata": {},
   "outputs": [],
   "source": [
    "design=driver.find_element(By.ID,'twotabsearchtextbox')\n",
    "design.send_keys('laptop')"
   ]
  },
  {
   "cell_type": "code",
   "execution_count": 15,
   "id": "ae8b573d",
   "metadata": {},
   "outputs": [],
   "source": [
    "search=driver.find_element(By.ID,'nav-search-submit-button')\n",
    "search.click()"
   ]
  },
  {
   "cell_type": "code",
   "execution_count": 20,
   "id": "4cdc279f",
   "metadata": {},
   "outputs": [],
   "source": [
    "fil=driver.find_element(By.XPATH,'/html/body/div[1]/div[2]/div[1]/div[2]/div/div[3]/span/div[1]/div/div/div[5]/ul[6]/li[10]/span/a/div/label/i')"
   ]
  },
  {
   "cell_type": "code",
   "execution_count": 21,
   "id": "76e69804",
   "metadata": {},
   "outputs": [],
   "source": [
    "fil.click()"
   ]
  },
  {
   "cell_type": "code",
   "execution_count": 61,
   "id": "8bbfaea7",
   "metadata": {},
   "outputs": [
    {
     "data": {
      "text/plain": [
       "['HP Pavilion Plus, 12th Gen Intel Core i7 16GB RAM/1TB SSD 14 inch(35.6 cm),OLED,400 nits,UWVA, Eye Safe Laptop/Intel Iris Xe Graphics/Backlit KB/B&O/FPR/Win 11/Alexa Built-in/MSO 2021, 14-eh0024TU',\n",
       " 'Lenovo ThinkPad X13 Intel Core i7 12th Gen 13.3\" WUXGA IPS 300 Nits Antiglare Laptop (16GB RAM/512 GB SSD/Win 11 Pro/FPR/Backlit Keyboard/Villi Black/3Y Premier Support/1.25 kg), 21BNS03K00',\n",
       " 'Acer Nitro 5 Gaming Laptop Intel core i7 11th Gen (16 GB/ 512 GB SSD/ NVIDIA® GeForce RTX 3050 Ti/ Windows 11 Home/144hz) AN515-57 with 39.6 cm (15.6 inches) IPS Display / 2.2 Kgs',\n",
       " 'HP Pavilion 14 11th Gen Intel Core i7 16GB/1TB SSD 14 inches Laptop, FHD Micro-Edge Anti-Glare Display/Iris X\\x89 Graphics/Backlit KB/B&O Audio/Fingerprint Reader/ Windows 11 Ready/1.41kg, 14-dv0058TU',\n",
       " 'MSI Titan GT77 12UHS, Intel 12th Gen. Core i7 - 12800HX 17.3\" UHD Gaming Laptop (DDR5 32 GB*2/2TB NVMe PCIe Gen4x4 SSD/Windows 11 Home/RTX 3080Ti, GDDR6 16GB Grpahics/Black/3.3 Kg), 9S7-17Q111-202',\n",
       " 'Lenovo IdeaPad Gaming 3 Intel Core i7-12700H 16\"(40.64cm) WUXGA IPS 165Hz Gaming Laptop (16GB/512GB SSD/Win 11/Office 2021/NVIDIA RTX 3060 6GB/Alexa/3 Month Game Pass/Onyx Grey/2.6Kg),82SA00B2IN',\n",
       " '(Renewed) HP ProBook 430 G3 6th Gen Intel Core i7 Thin & Light HD Laptop (8 GB DDR4 RAM/256 GB SSD/13.3\" (33.8 cm)/Windows 11/MS Office/Wifi/Bluetooth 4.0/Webcam/Integrated Graphics)',\n",
       " 'HP Pavilion x360 11th Gen Intel Core i7 14 inch(35.6 cm) FHD,IPS, Multitouch 2-in-1 Laptop(16GB RAM/512GB SSD/Backlit KB/Intel Iris Xe Graphics/Pen/Alexa Built-in/MSO/1.52Kg) 14-dy1050TU, Spruce Blue',\n",
       " 'HP Victus Gaming Latest 12th Gen Intel Core i7 15.6 inch(39.6 cm) FHD Gaming Laptop (8GB RAM/512GB SSD/RTX 3050 4GB Graphics/144Hz/9ms Response Time/Win 11/MSO/BL KB/B&O/Alexa/Xbox Pass),15-fa0073TX',\n",
       " 'HP Pavilion 14 12th Gen Intel Core i7 16GB SDRAM/1TB SSD 14 inch(35.6cm) FHD,IPS,Micro-Edge Display/Intel UHD Graphics/B&O/Win 11/Alexa Built-in/Backlit KB/FPR/MSO 2021/Natural Silver, 14-dv2015TU']"
      ]
     },
     "execution_count": 61,
     "metadata": {},
     "output_type": "execute_result"
    }
   ],
   "source": [
    "brand2=[]\n",
    "comp=driver.find_elements(By.XPATH,'//span[@class=\"a-size-medium a-color-base a-text-normal\"]')\n",
    "for i in comp[0:10]:\n",
    "    brand2.append(i.text)\n",
    "brand2"
   ]
  },
  {
   "cell_type": "code",
   "execution_count": 54,
   "id": "36759898",
   "metadata": {},
   "outputs": [
    {
     "data": {
      "text/plain": [
       "['₹94,045',\n",
       " '₹1,65,990',\n",
       " '₹82,500',\n",
       " '₹92,500',\n",
       " '₹4,82,990',\n",
       " '₹1,04,990',\n",
       " '₹24,999',\n",
       " '₹82,490',\n",
       " '₹84,990',\n",
       " '₹87,990']"
      ]
     },
     "execution_count": 54,
     "metadata": {},
     "output_type": "execute_result"
    }
   ],
   "source": [
    "price=[]\n",
    "comp=driver.find_elements(By.XPATH,'//span[@class=\"a-price\"]')\n",
    "for i in comp[0:10]:\n",
    "    price.append(i.text)\n",
    "price"
   ]
  },
  {
   "cell_type": "code",
   "execution_count": 52,
   "id": "3191f4ab",
   "metadata": {},
   "outputs": [
    {
     "data": {
      "text/plain": [
       "['(4.0)',\n",
       " '(4.0)',\n",
       " '(4.4)',\n",
       " '(5.0)',\n",
       " '(4.3)',\n",
       " '(3.3)',\n",
       " '(4.3)',\n",
       " '(4.3)',\n",
       " '(4.3)',\n",
       " '(2.5)']"
      ]
     },
     "execution_count": 52,
     "metadata": {},
     "output_type": "execute_result"
    }
   ],
   "source": [
    "rate=[]\n",
    "r=driver.find_elements(By.XPATH,'//span[@class=\"a-size-base\"]')\n",
    "for i in r[0:10]:\n",
    "    rate.append(i.text)\n",
    "rate"
   ]
  },
  {
   "cell_type": "code",
   "execution_count": 57,
   "id": "c021e9c9",
   "metadata": {},
   "outputs": [
    {
     "name": "stdout",
     "output_type": "stream",
     "text": [
      "10 10 10\n"
     ]
    }
   ],
   "source": [
    "print(len(rate),len(price),len(brand2))"
   ]
  },
  {
   "cell_type": "code",
   "execution_count": 60,
   "id": "53c7c582",
   "metadata": {},
   "outputs": [
    {
     "ename": "SyntaxError",
     "evalue": "invalid syntax (1472426808.py, line 1)",
     "output_type": "error",
     "traceback": [
      "\u001b[1;36m  File \u001b[1;32m\"C:\\Users\\ADMIN\\AppData\\Local\\Temp\\ipykernel_8336\\1472426808.py\"\u001b[1;36m, line \u001b[1;32m1\u001b[0m\n\u001b[1;33m    df=pd.DataFrame('brand':brand2,'prices':price,'rating':rate)\u001b[0m\n\u001b[1;37m                           ^\u001b[0m\n\u001b[1;31mSyntaxError\u001b[0m\u001b[1;31m:\u001b[0m invalid syntax\n"
     ]
    }
   ],
   "source": [
    "df=pd.DataFrame('brand':brand2,'prices':price,'rating':rate)"
   ]
  },
  {
   "cell_type": "code",
   "execution_count": 64,
   "id": "a3326fa5",
   "metadata": {},
   "outputs": [],
   "source": [
    "df=pd.DataFrame({'brand':brand2,'price':price,'rating':rate})"
   ]
  },
  {
   "cell_type": "code",
   "execution_count": 65,
   "id": "20b709ee",
   "metadata": {},
   "outputs": [
    {
     "data": {
      "text/html": [
       "<div>\n",
       "<style scoped>\n",
       "    .dataframe tbody tr th:only-of-type {\n",
       "        vertical-align: middle;\n",
       "    }\n",
       "\n",
       "    .dataframe tbody tr th {\n",
       "        vertical-align: top;\n",
       "    }\n",
       "\n",
       "    .dataframe thead th {\n",
       "        text-align: right;\n",
       "    }\n",
       "</style>\n",
       "<table border=\"1\" class=\"dataframe\">\n",
       "  <thead>\n",
       "    <tr style=\"text-align: right;\">\n",
       "      <th></th>\n",
       "      <th>brand</th>\n",
       "      <th>price</th>\n",
       "      <th>rating</th>\n",
       "    </tr>\n",
       "  </thead>\n",
       "  <tbody>\n",
       "    <tr>\n",
       "      <th>0</th>\n",
       "      <td>HP Pavilion Plus, 12th Gen Intel Core i7 16GB ...</td>\n",
       "      <td>₹94,045</td>\n",
       "      <td>(4.0)</td>\n",
       "    </tr>\n",
       "    <tr>\n",
       "      <th>1</th>\n",
       "      <td>Lenovo ThinkPad X13 Intel Core i7 12th Gen 13....</td>\n",
       "      <td>₹1,65,990</td>\n",
       "      <td>(4.0)</td>\n",
       "    </tr>\n",
       "    <tr>\n",
       "      <th>2</th>\n",
       "      <td>Acer Nitro 5 Gaming Laptop Intel core i7 11th ...</td>\n",
       "      <td>₹82,500</td>\n",
       "      <td>(4.4)</td>\n",
       "    </tr>\n",
       "    <tr>\n",
       "      <th>3</th>\n",
       "      <td>HP Pavilion 14 11th Gen Intel Core i7 16GB/1TB...</td>\n",
       "      <td>₹92,500</td>\n",
       "      <td>(5.0)</td>\n",
       "    </tr>\n",
       "    <tr>\n",
       "      <th>4</th>\n",
       "      <td>MSI Titan GT77 12UHS, Intel 12th Gen. Core i7 ...</td>\n",
       "      <td>₹4,82,990</td>\n",
       "      <td>(4.3)</td>\n",
       "    </tr>\n",
       "    <tr>\n",
       "      <th>5</th>\n",
       "      <td>Lenovo IdeaPad Gaming 3 Intel Core i7-12700H 1...</td>\n",
       "      <td>₹1,04,990</td>\n",
       "      <td>(3.3)</td>\n",
       "    </tr>\n",
       "    <tr>\n",
       "      <th>6</th>\n",
       "      <td>(Renewed) HP ProBook 430 G3 6th Gen Intel Core...</td>\n",
       "      <td>₹24,999</td>\n",
       "      <td>(4.3)</td>\n",
       "    </tr>\n",
       "    <tr>\n",
       "      <th>7</th>\n",
       "      <td>HP Pavilion x360 11th Gen Intel Core i7 14 inc...</td>\n",
       "      <td>₹82,490</td>\n",
       "      <td>(4.3)</td>\n",
       "    </tr>\n",
       "    <tr>\n",
       "      <th>8</th>\n",
       "      <td>HP Victus Gaming Latest 12th Gen Intel Core i7...</td>\n",
       "      <td>₹84,990</td>\n",
       "      <td>(4.3)</td>\n",
       "    </tr>\n",
       "    <tr>\n",
       "      <th>9</th>\n",
       "      <td>HP Pavilion 14 12th Gen Intel Core i7 16GB SDR...</td>\n",
       "      <td>₹87,990</td>\n",
       "      <td>(2.5)</td>\n",
       "    </tr>\n",
       "  </tbody>\n",
       "</table>\n",
       "</div>"
      ],
      "text/plain": [
       "                                               brand      price rating\n",
       "0  HP Pavilion Plus, 12th Gen Intel Core i7 16GB ...    ₹94,045  (4.0)\n",
       "1  Lenovo ThinkPad X13 Intel Core i7 12th Gen 13....  ₹1,65,990  (4.0)\n",
       "2  Acer Nitro 5 Gaming Laptop Intel core i7 11th ...    ₹82,500  (4.4)\n",
       "3  HP Pavilion 14 11th Gen Intel Core i7 16GB/1TB...    ₹92,500  (5.0)\n",
       "4  MSI Titan GT77 12UHS, Intel 12th Gen. Core i7 ...  ₹4,82,990  (4.3)\n",
       "5  Lenovo IdeaPad Gaming 3 Intel Core i7-12700H 1...  ₹1,04,990  (3.3)\n",
       "6  (Renewed) HP ProBook 430 G3 6th Gen Intel Core...    ₹24,999  (4.3)\n",
       "7  HP Pavilion x360 11th Gen Intel Core i7 14 inc...    ₹82,490  (4.3)\n",
       "8  HP Victus Gaming Latest 12th Gen Intel Core i7...    ₹84,990  (4.3)\n",
       "9  HP Pavilion 14 12th Gen Intel Core i7 16GB SDR...    ₹87,990  (2.5)"
      ]
     },
     "execution_count": 65,
     "metadata": {},
     "output_type": "execute_result"
    }
   ],
   "source": [
    "df"
   ]
  },
  {
   "cell_type": "markdown",
   "id": "3933cc70",
   "metadata": {},
   "source": [
    "# question 8"
   ]
  },
  {
   "cell_type": "code",
   "execution_count": 3,
   "id": "79245c66",
   "metadata": {},
   "outputs": [],
   "source": [
    "driver=webdriver.Chrome(r\"C:\\Users\\ADMIN\\Downloads\\chromedriver_win32.zip\\chromedriver.exe\")"
   ]
  },
  {
   "cell_type": "code",
   "execution_count": 4,
   "id": "e86a8f42",
   "metadata": {},
   "outputs": [],
   "source": [
    "driver.get('https://www.azquotes.com/')"
   ]
  },
  {
   "cell_type": "markdown",
   "id": "1713268a",
   "metadata": {},
   "source": [
    "scrapping top quotes"
   ]
  },
  {
   "cell_type": "code",
   "execution_count": 6,
   "id": "26d1f3c0",
   "metadata": {},
   "outputs": [],
   "source": [
    "title=driver.find_element(By.XPATH,'/html/body/div[1]/div[1]/div[1]/div/div[3]/ul/li[5]/a')\n",
    "title.click()"
   ]
  },
  {
   "cell_type": "code",
   "execution_count": 13,
   "id": "b5a61c50",
   "metadata": {},
   "outputs": [
    {
     "name": "stdout",
     "output_type": "stream",
     "text": [
      "900\n"
     ]
    }
   ],
   "source": [
    "que=[]\n",
    "s=0\n",
    "e=9\n",
    "for i in range(s,e):\n",
    "    quotes=driver.find_elements(By.XPATH,'//a[@class=\"title\"]')\n",
    "    for i in quotes:\n",
    "        que.append(i.text)\n",
    "    next_button=driver.find_element(By.XPATH,'//li[@class=\"next\"]')\n",
    "    next_button.click()\n",
    "    time.sleep(4)\n",
    "print(len(que))\n",
    "    \n",
    "\n",
    "    "
   ]
  },
  {
   "cell_type": "code",
   "execution_count": 14,
   "id": "22d423c1",
   "metadata": {},
   "outputs": [
    {
     "name": "stdout",
     "output_type": "stream",
     "text": [
      "900\n"
     ]
    }
   ],
   "source": [
    "aut=[]\n",
    "s=0\n",
    "e=9\n",
    "for i in range(s,e):\n",
    "    quotes=driver.find_elements(By.XPATH,'//div[@class=\"author\"]')\n",
    "    for i in quotes:\n",
    "        aut.append(i.text)\n",
    "    next_button=driver.find_element(By.XPATH,'//li[@class=\"next\"]')\n",
    "    next_button.click()\n",
    "    time.sleep(4)\n",
    "print(len(aut))\n",
    "    "
   ]
  },
  {
   "cell_type": "code",
   "execution_count": 17,
   "id": "eaf580c6",
   "metadata": {},
   "outputs": [
    {
     "name": "stdout",
     "output_type": "stream",
     "text": [
      "900\n"
     ]
    }
   ],
   "source": [
    "t=[]\n",
    "s=0\n",
    "e=9\n",
    "for i in range(s,e):\n",
    "    quotes=driver.find_elements(By.XPATH,'//div[@class=\"tags\"]')\n",
    "    for i in quotes:\n",
    "        t.append(i.text)\n",
    "    next_button=driver.find_element(By.XPATH,'//li[@class=\"next\"]')\n",
    "    next_button.click()\n",
    "    time.sleep(4)\n",
    "print(len(t))"
   ]
  },
  {
   "cell_type": "code",
   "execution_count": 19,
   "id": "f958d5e0",
   "metadata": {},
   "outputs": [],
   "source": [
    "df=pd.DataFrame({'quotes':que,'types':t,'author':aut})"
   ]
  },
  {
   "cell_type": "code",
   "execution_count": 20,
   "id": "7a47a51f",
   "metadata": {},
   "outputs": [
    {
     "data": {
      "text/html": [
       "<div>\n",
       "<style scoped>\n",
       "    .dataframe tbody tr th:only-of-type {\n",
       "        vertical-align: middle;\n",
       "    }\n",
       "\n",
       "    .dataframe tbody tr th {\n",
       "        vertical-align: top;\n",
       "    }\n",
       "\n",
       "    .dataframe thead th {\n",
       "        text-align: right;\n",
       "    }\n",
       "</style>\n",
       "<table border=\"1\" class=\"dataframe\">\n",
       "  <thead>\n",
       "    <tr style=\"text-align: right;\">\n",
       "      <th></th>\n",
       "      <th>quotes</th>\n",
       "      <th>types</th>\n",
       "      <th>author</th>\n",
       "    </tr>\n",
       "  </thead>\n",
       "  <tbody>\n",
       "    <tr>\n",
       "      <th>0</th>\n",
       "      <td>The essence of strategy is choosing what not t...</td>\n",
       "      <td>Essence, Deep Thought, Transcendentalism</td>\n",
       "      <td>Michael Porter</td>\n",
       "    </tr>\n",
       "    <tr>\n",
       "      <th>1</th>\n",
       "      <td>One cannot and must not try to erase the past ...</td>\n",
       "      <td>Inspiration, Past, Trying</td>\n",
       "      <td>Golda Meir</td>\n",
       "    </tr>\n",
       "    <tr>\n",
       "      <th>2</th>\n",
       "      <td>Patriotism means to stand by the country. It d...</td>\n",
       "      <td>Country, Peace, War</td>\n",
       "      <td>Theodore Roosevelt</td>\n",
       "    </tr>\n",
       "    <tr>\n",
       "      <th>3</th>\n",
       "      <td>Death is something inevitable. When a man has ...</td>\n",
       "      <td>Inspirational, Motivational, Death</td>\n",
       "      <td>Nelson Mandela</td>\n",
       "    </tr>\n",
       "    <tr>\n",
       "      <th>4</th>\n",
       "      <td>You have to love a nation that celebrates its ...</td>\n",
       "      <td>4th Of July, Food, Patriotic</td>\n",
       "      <td>Erma Bombeck</td>\n",
       "    </tr>\n",
       "    <tr>\n",
       "      <th>...</th>\n",
       "      <td>...</td>\n",
       "      <td>...</td>\n",
       "      <td>...</td>\n",
       "    </tr>\n",
       "    <tr>\n",
       "      <th>895</th>\n",
       "      <td>To love means loving the unlovable. To forgive...</td>\n",
       "      <td>Love, Inspirational, Success</td>\n",
       "      <td>Gilbert K. Chesterton</td>\n",
       "    </tr>\n",
       "    <tr>\n",
       "      <th>896</th>\n",
       "      <td>If you really want to do something, you'll fin...</td>\n",
       "      <td>Inspirational, Motivational, Success</td>\n",
       "      <td>Jim Rohn</td>\n",
       "    </tr>\n",
       "    <tr>\n",
       "      <th>897</th>\n",
       "      <td>Be brave. Take risks. Nothing can substitute e...</td>\n",
       "      <td>Encouraging, Courage, Inspiration</td>\n",
       "      <td>Paulo Coelho</td>\n",
       "    </tr>\n",
       "    <tr>\n",
       "      <th>898</th>\n",
       "      <td>It is neither wealth nor splendor; but tranqui...</td>\n",
       "      <td>Life, Happiness, Work</td>\n",
       "      <td>Thomas Jefferson</td>\n",
       "    </tr>\n",
       "    <tr>\n",
       "      <th>899</th>\n",
       "      <td>A thousand words will not leave so deep an imp...</td>\n",
       "      <td>Inspirational, Inspiring, Positivity</td>\n",
       "      <td>Henrik Ibsen</td>\n",
       "    </tr>\n",
       "  </tbody>\n",
       "</table>\n",
       "<p>900 rows × 3 columns</p>\n",
       "</div>"
      ],
      "text/plain": [
       "                                                quotes  \\\n",
       "0    The essence of strategy is choosing what not t...   \n",
       "1    One cannot and must not try to erase the past ...   \n",
       "2    Patriotism means to stand by the country. It d...   \n",
       "3    Death is something inevitable. When a man has ...   \n",
       "4    You have to love a nation that celebrates its ...   \n",
       "..                                                 ...   \n",
       "895  To love means loving the unlovable. To forgive...   \n",
       "896  If you really want to do something, you'll fin...   \n",
       "897  Be brave. Take risks. Nothing can substitute e...   \n",
       "898  It is neither wealth nor splendor; but tranqui...   \n",
       "899  A thousand words will not leave so deep an imp...   \n",
       "\n",
       "                                        types                 author  \n",
       "0    Essence, Deep Thought, Transcendentalism         Michael Porter  \n",
       "1                   Inspiration, Past, Trying             Golda Meir  \n",
       "2                         Country, Peace, War     Theodore Roosevelt  \n",
       "3          Inspirational, Motivational, Death         Nelson Mandela  \n",
       "4                4th Of July, Food, Patriotic           Erma Bombeck  \n",
       "..                                        ...                    ...  \n",
       "895              Love, Inspirational, Success  Gilbert K. Chesterton  \n",
       "896      Inspirational, Motivational, Success               Jim Rohn  \n",
       "897         Encouraging, Courage, Inspiration           Paulo Coelho  \n",
       "898                     Life, Happiness, Work       Thomas Jefferson  \n",
       "899      Inspirational, Inspiring, Positivity           Henrik Ibsen  \n",
       "\n",
       "[900 rows x 3 columns]"
      ]
     },
     "execution_count": 20,
     "metadata": {},
     "output_type": "execute_result"
    }
   ],
   "source": [
    "df"
   ]
  },
  {
   "cell_type": "markdown",
   "id": "341df3aa",
   "metadata": {},
   "source": [
    "question 9"
   ]
  },
  {
   "cell_type": "code",
   "execution_count": 21,
   "id": "eaf52e44",
   "metadata": {},
   "outputs": [],
   "source": [
    "driver=webdriver.Chrome(r\"C:\\Users\\ADMIN\\Downloads\\chromedriver_win32.zip\\chromedriver.exe\")"
   ]
  },
  {
   "cell_type": "code",
   "execution_count": 22,
   "id": "ec35be87",
   "metadata": {},
   "outputs": [],
   "source": [
    "driver.get('https://www.jagranjosh.com')"
   ]
  },
  {
   "cell_type": "code",
   "execution_count": 23,
   "id": "0fe024c9",
   "metadata": {},
   "outputs": [],
   "source": [
    "gk=driver.find_element(By.XPATH,'/html/body/div[1]/div[1]/div/div[1]/div/div[6]/div/div[1]/header/div[3]/ul/li[9]/a')\n",
    "gk.click()"
   ]
  },
  {
   "cell_type": "code",
   "execution_count": 24,
   "id": "285ccb7b",
   "metadata": {},
   "outputs": [],
   "source": [
    "lis=driver.find_element(By.XPATH,'/html/body/div[1]/div/div/div[2]/div/div[10]/div/div/ul/li[2]/a')\n",
    "lis.click()"
   ]
  },
  {
   "cell_type": "code",
   "execution_count": 29,
   "id": "e9c68435",
   "metadata": {},
   "outputs": [
    {
     "name": "stdout",
     "output_type": "stream",
     "text": [
      "['List of all Prime Ministers of India: Narendra Modi is the current and 14th Prime Minister of India. He would become the fourth Indian Prime Minister to serve two consecutive terms on the post and would be the first non-Congress Prime Minister of India who would complete two consecutive terms. The Prime Minister of India is the head of the government of the Republic of India. Executive authority is vested in the Prime Minister and their chosen Council of Ministers, though the President of India is the Constitutional, nominal and ceremonial head of the State. ', 'In this article, we have mentioned the list of all the Prime Ministers of India along with their term starting from 1947 to 2022. ', 'READ |', 'List of Movies to Learn English: Watch These English Movies To Learn The Language Quickly!', 'Yogi Adityanath Cabinet 2.0: Check List of Ministers, Ministers of State (Independent Charge), and Ministers of State', 'List of all the Prime Ministers of India from 1947-2021', 'S.N.', 'Name', 'Born-Dead', 'Term of office', 'Remark', '1.', 'Jawahar Lal Nehru', '(1889–1964)', '15 August 1947 to 27 May 1964', '16 years, 286 days', 'The first prime minister of India and the longest-serving PM of India, the first to die in office.', '2.', 'Gulzarilal Nanda (Acting)', '(1898-1998)', '27 May 1964 to 9 June 1964,', '13 days', 'First acting PM of India', '3.', 'Lal Bahadur Shastri', '(1904–1966)', '9 June 1964 to 11 January 1966', '1 year, 216 days', \"He has given the slogan of 'Jai Jawan Jai Kisan' during the Indo-Pak war of 1965\", '4. ', 'Gulzari Lal Nanda  (Acting)', '(1898-1998)', '11 January 1966 to 24 January 1966', '13 days', '-', '5.', 'Indira Gandhi', '(1917–1984)', '24 January 1966 to 24 March 1977', '11 years, 59 days', 'First female Prime Minister of India', '6.', 'Morarji Desai', '(1896–1995)', '24 March 1977 to  28 July 1979 ', '2 year, 126 days', 'Oldest to become PM (81 years old) and first to resign from office', '7.', 'Charan Singh', '(1902–1987)', '28 July 1979 to 14 January 1980', '170 days', 'Only PM who did not face the Parliament', '8.', 'Indira Gandhi', '(1917–1984)', '14 January 1980 to 31 October 1984', '4 years, 291 days', 'The first lady who served as PM for the second term', '9.', 'Rajiv Gandhi', '(1944–1991)', '31 October 1984 to 2 December 1989', '5 years, 32 days', 'Youngest to become PM (40 years old)', '10.', 'V. P. Singh', '(1931–2008)', '2 December 1989 to 10 November 1990', '343 days', 'First PM to step down after a vote of no confidence', '11.', 'Chandra Shekhar', '(1927–2007)', '10 November 1990 to 21 June 1991', '223 days', 'He belongs to  Samajwadi Janata Party', '12.', 'P. V. Narasimha Rao', '(1921–2004)', '21 June 1991 to 16 May 1996', '4 years, 330 days', 'First PM from south India', '13.', 'Atal Bihari Vajpayee', '(1924- 2018)', '16 May 1996 to 1 June 1996', '16 days', 'PM for shortest tenure', '14.', 'H. D. Deve Gowda', '(born 1933)', '1 June 1996 to 21 April 1997', '324 days', 'He belongs to  Janata Dal', '15.', 'Inder Kumar Gujral', '(1919–2012)', '21 April 1997 to 19 March 1998 ', '332 days', '------', '16.', 'Atal Bihari Vajpayee', '(1924-2018)', '19 March 1998 to 22 May 2004 ', '6 years, 64 days', ' The first non-congress PM who completed a full term as PM', '17.', 'Manmohan Singh', '(born 1932)', '22 May 2004 to 26 May 2014   ', '10 years, 4 days', ' First Sikh PM', '18.', 'Narendra Modi', '(born 1950)', '26 May 2014 - Present', '4th Prime Minister of India who served two consecutive tenures', 'Article 75 of the Indian Constitution envisages that there will be a Prime Minister who shall be appointed by the President of India. Prime Minister is the leader of the Cabinet Ministers. The main executive powers of the government are vested in the Prime Minister while the President is the nominal head of the State. Article 78 of the Indian Constitution specifies the duties of the Prime Minister of India. He acts as a link between the President and Cabinet while discharging his duties.', 'Prime Minister of India determines the dates of its meetings and programmes for the Parliament session. He also decides when the House has to be prorogued or dissolved. As a chief spokesman, he makes the announcement of principal government policies and answers questions.', 'Prime Minister (PM) recommends President regarding the appointment of many officers, he allocates and reshuffles various portfolios among Ministers, he presides over the meeting of the Council of Ministers and influences their decisions. The Prime Minister can ask any member to resign or recommend the President to remove any Minister.', '', 'Also Read the following:', '']\n"
     ]
    }
   ],
   "source": [
    "titles=[]\n",
    "tit=driver.find_elements(By.TAG_NAME,'p')\n",
    "for i in tit:\n",
    "    titles.append(i.text)\n",
    "print(titles)"
   ]
  },
  {
   "cell_type": "code",
   "execution_count": null,
   "id": "f831d691",
   "metadata": {},
   "outputs": [],
   "source": [
    "-------completed-----"
   ]
  }
 ],
 "metadata": {
  "kernelspec": {
   "display_name": "Python 3 (ipykernel)",
   "language": "python",
   "name": "python3"
  },
  "language_info": {
   "codemirror_mode": {
    "name": "ipython",
    "version": 3
   },
   "file_extension": ".py",
   "mimetype": "text/x-python",
   "name": "python",
   "nbconvert_exporter": "python",
   "pygments_lexer": "ipython3",
   "version": "3.9.13"
  }
 },
 "nbformat": 4,
 "nbformat_minor": 5
}
